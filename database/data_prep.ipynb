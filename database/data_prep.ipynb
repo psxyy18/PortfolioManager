{
 "cells": [
  {
   "cell_type": "code",
   "execution_count": 29,
   "id": "44f5ba52",
   "metadata": {},
   "outputs": [],
   "source": [
    "import pandas as pd\n",
    "import numpy as np"
   ]
  },
  {
   "cell_type": "markdown",
   "id": "694d5180",
   "metadata": {},
   "source": [
    "## stock data"
   ]
  },
  {
   "cell_type": "code",
   "execution_count": 30,
   "id": "ae0d9f52",
   "metadata": {},
   "outputs": [
    {
     "name": "stdout",
     "output_type": "stream",
     "text": [
      "(6368, 14)\n"
     ]
    },
    {
     "data": {
      "application/vnd.microsoft.datawrangler.viewer.v0+json": {
       "columns": [
        {
         "name": "index",
         "rawType": "int64",
         "type": "integer"
        },
        {
         "name": "ticker",
         "rawType": "object",
         "type": "string"
        },
        {
         "name": "company name",
         "rawType": "object",
         "type": "string"
        },
        {
         "name": "short name",
         "rawType": "object",
         "type": "string"
        },
        {
         "name": "industry",
         "rawType": "object",
         "type": "string"
        },
        {
         "name": "description",
         "rawType": "object",
         "type": "string"
        },
        {
         "name": "website",
         "rawType": "object",
         "type": "string"
        },
        {
         "name": "logo",
         "rawType": "object",
         "type": "string"
        },
        {
         "name": "ceo",
         "rawType": "object",
         "type": "string"
        },
        {
         "name": "exchange",
         "rawType": "object",
         "type": "string"
        },
        {
         "name": "market cap",
         "rawType": "float64",
         "type": "float"
        },
        {
         "name": "sector",
         "rawType": "object",
         "type": "string"
        },
        {
         "name": "tag 1",
         "rawType": "object",
         "type": "string"
        },
        {
         "name": "tag 2",
         "rawType": "object",
         "type": "string"
        },
        {
         "name": "tag 3",
         "rawType": "object",
         "type": "string"
        }
       ],
       "ref": "0edce18b-17fe-45fc-bea2-157d17269f55",
       "rows": [
        [
         "0",
         "A",
         "Agilent Technologies Inc.",
         "Agilent",
         "Medical Diagnostics & Research",
         "Agilent Technologies Inc is engaged in life sciences, diagnostics and applied chemical markets. The company provides application focused solutions that include instruments, software, services and consumables for the entire laboratory workflow.",
         "http://www.agilent.com",
         "A.png",
         "Michael R. McMullen",
         "New York Stock Exchange",
         "24218068096.0",
         "Healthcare",
         "Healthcare",
         "Diagnostics & Research",
         "Medical Diagnostics & Research"
        ],
        [
         "1",
         "AA",
         "Alcoa Corporation",
         "Alcoa",
         "Metals & Mining",
         "Alcoa Corp is an integrated aluminum company. The company engages in aluminum production from bauxite mining to manufactures finished aluminum goods. It serves finished aluminum goods to a wide-variety of industrial end markets.",
         "http://www.alcoa.com",
         "AA.png",
         "Roy Christopher Harvey",
         "New York Stock Exchange",
         "5374966543.0",
         "Basic Materials",
         "Basic Materials",
         "Aluminum",
         "Metals & Mining"
        ],
        [
         "2",
         "AABA",
         "Altaba Inc.",
         "Altaba",
         "Asset Management",
         "Altaba Inc is an independent, non-diversified, closed-end management investment company. The Fund's objective is to seek to increase the price per share at which it trades relative to then-current values of its principal underlying assets, and others.",
         "http://www.altaba.com",
         "AABA.png",
         "Thomas J. Mcinerney",
         "Nasdaq Global Select",
         "41223683414.0",
         "Financial Services",
         "Financial Services",
         "Asset Management",
         null
        ],
        [
         "3",
         "AAC",
         "AAC Holdings Inc.",
         "AAC",
         "Health Care Providers",
         "AAC Holdings Inc provides inpatient and outpatient substance abuse treatment services for individuals with drug and alcohol addiction. The company also performs drug testing and diagnostics laboratory services and provides physician services.",
         "http://www.americanaddictioncenters.org",
         null,
         "Michael T. Cartwright",
         "New York Stock Exchange",
         "63720099.0",
         "Healthcare",
         "Healthcare",
         "Medical Care",
         "Health Care Providers"
        ],
        [
         "4",
         "AADR",
         "AdvisorShares Dorsey Wright ADR",
         "AdvisorShares Dorsey Wright",
         null,
         "The investment seeks long-term capital appreciation above international benchmarks such as the BNY Mellon Classic ADR Index, the fund's primary benchmark, and the MSCI EAFE Index, the fund's secondary benchmark.\n The fund seeks to achieve the fund's investment objective by selecting primarily a portfolio of U.S.-traded securities of non-U.S. organizations, most often American Depositary Receipts (\"ADRs\"). It will invest at least 80% of its total assets in ADRs and in securities that have economic characteristics similar to ADRs.",
         "http://www.advisorshares.com",
         "AADR.png",
         null,
         "NYSE Arca",
         "103161180.0",
         null,
         null,
         null,
         null
        ]
       ],
       "shape": {
        "columns": 14,
        "rows": 5
       }
      },
      "text/html": [
       "<div>\n",
       "<style scoped>\n",
       "    .dataframe tbody tr th:only-of-type {\n",
       "        vertical-align: middle;\n",
       "    }\n",
       "\n",
       "    .dataframe tbody tr th {\n",
       "        vertical-align: top;\n",
       "    }\n",
       "\n",
       "    .dataframe thead th {\n",
       "        text-align: right;\n",
       "    }\n",
       "</style>\n",
       "<table border=\"1\" class=\"dataframe\">\n",
       "  <thead>\n",
       "    <tr style=\"text-align: right;\">\n",
       "      <th></th>\n",
       "      <th>ticker</th>\n",
       "      <th>company name</th>\n",
       "      <th>short name</th>\n",
       "      <th>industry</th>\n",
       "      <th>description</th>\n",
       "      <th>website</th>\n",
       "      <th>logo</th>\n",
       "      <th>ceo</th>\n",
       "      <th>exchange</th>\n",
       "      <th>market cap</th>\n",
       "      <th>sector</th>\n",
       "      <th>tag 1</th>\n",
       "      <th>tag 2</th>\n",
       "      <th>tag 3</th>\n",
       "    </tr>\n",
       "  </thead>\n",
       "  <tbody>\n",
       "    <tr>\n",
       "      <th>0</th>\n",
       "      <td>A</td>\n",
       "      <td>Agilent Technologies Inc.</td>\n",
       "      <td>Agilent</td>\n",
       "      <td>Medical Diagnostics &amp; Research</td>\n",
       "      <td>Agilent Technologies Inc is engaged in life sc...</td>\n",
       "      <td>http://www.agilent.com</td>\n",
       "      <td>A.png</td>\n",
       "      <td>Michael R. McMullen</td>\n",
       "      <td>New York Stock Exchange</td>\n",
       "      <td>2.421807e+10</td>\n",
       "      <td>Healthcare</td>\n",
       "      <td>Healthcare</td>\n",
       "      <td>Diagnostics &amp; Research</td>\n",
       "      <td>Medical Diagnostics &amp; Research</td>\n",
       "    </tr>\n",
       "    <tr>\n",
       "      <th>1</th>\n",
       "      <td>AA</td>\n",
       "      <td>Alcoa Corporation</td>\n",
       "      <td>Alcoa</td>\n",
       "      <td>Metals &amp; Mining</td>\n",
       "      <td>Alcoa Corp is an integrated aluminum company. ...</td>\n",
       "      <td>http://www.alcoa.com</td>\n",
       "      <td>AA.png</td>\n",
       "      <td>Roy Christopher Harvey</td>\n",
       "      <td>New York Stock Exchange</td>\n",
       "      <td>5.374967e+09</td>\n",
       "      <td>Basic Materials</td>\n",
       "      <td>Basic Materials</td>\n",
       "      <td>Aluminum</td>\n",
       "      <td>Metals &amp; Mining</td>\n",
       "    </tr>\n",
       "    <tr>\n",
       "      <th>2</th>\n",
       "      <td>AABA</td>\n",
       "      <td>Altaba Inc.</td>\n",
       "      <td>Altaba</td>\n",
       "      <td>Asset Management</td>\n",
       "      <td>Altaba Inc is an independent, non-diversified,...</td>\n",
       "      <td>http://www.altaba.com</td>\n",
       "      <td>AABA.png</td>\n",
       "      <td>Thomas J. Mcinerney</td>\n",
       "      <td>Nasdaq Global Select</td>\n",
       "      <td>4.122368e+10</td>\n",
       "      <td>Financial Services</td>\n",
       "      <td>Financial Services</td>\n",
       "      <td>Asset Management</td>\n",
       "      <td>NaN</td>\n",
       "    </tr>\n",
       "    <tr>\n",
       "      <th>3</th>\n",
       "      <td>AAC</td>\n",
       "      <td>AAC Holdings Inc.</td>\n",
       "      <td>AAC</td>\n",
       "      <td>Health Care Providers</td>\n",
       "      <td>AAC Holdings Inc provides inpatient and outpat...</td>\n",
       "      <td>http://www.americanaddictioncenters.org</td>\n",
       "      <td>NaN</td>\n",
       "      <td>Michael T. Cartwright</td>\n",
       "      <td>New York Stock Exchange</td>\n",
       "      <td>6.372010e+07</td>\n",
       "      <td>Healthcare</td>\n",
       "      <td>Healthcare</td>\n",
       "      <td>Medical Care</td>\n",
       "      <td>Health Care Providers</td>\n",
       "    </tr>\n",
       "    <tr>\n",
       "      <th>4</th>\n",
       "      <td>AADR</td>\n",
       "      <td>AdvisorShares Dorsey Wright ADR</td>\n",
       "      <td>AdvisorShares Dorsey Wright</td>\n",
       "      <td>NaN</td>\n",
       "      <td>The investment seeks long-term capital appreci...</td>\n",
       "      <td>http://www.advisorshares.com</td>\n",
       "      <td>AADR.png</td>\n",
       "      <td>NaN</td>\n",
       "      <td>NYSE Arca</td>\n",
       "      <td>1.031612e+08</td>\n",
       "      <td>NaN</td>\n",
       "      <td>NaN</td>\n",
       "      <td>NaN</td>\n",
       "      <td>NaN</td>\n",
       "    </tr>\n",
       "  </tbody>\n",
       "</table>\n",
       "</div>"
      ],
      "text/plain": [
       "  ticker                     company name                   short name  \\\n",
       "0      A        Agilent Technologies Inc.                      Agilent   \n",
       "1     AA                Alcoa Corporation                        Alcoa   \n",
       "2   AABA                      Altaba Inc.                       Altaba   \n",
       "3    AAC                AAC Holdings Inc.                          AAC   \n",
       "4   AADR  AdvisorShares Dorsey Wright ADR  AdvisorShares Dorsey Wright   \n",
       "\n",
       "                         industry  \\\n",
       "0  Medical Diagnostics & Research   \n",
       "1                 Metals & Mining   \n",
       "2                Asset Management   \n",
       "3           Health Care Providers   \n",
       "4                             NaN   \n",
       "\n",
       "                                         description  \\\n",
       "0  Agilent Technologies Inc is engaged in life sc...   \n",
       "1  Alcoa Corp is an integrated aluminum company. ...   \n",
       "2  Altaba Inc is an independent, non-diversified,...   \n",
       "3  AAC Holdings Inc provides inpatient and outpat...   \n",
       "4  The investment seeks long-term capital appreci...   \n",
       "\n",
       "                                   website      logo                     ceo  \\\n",
       "0                   http://www.agilent.com     A.png     Michael R. McMullen   \n",
       "1                     http://www.alcoa.com    AA.png  Roy Christopher Harvey   \n",
       "2                    http://www.altaba.com  AABA.png     Thomas J. Mcinerney   \n",
       "3  http://www.americanaddictioncenters.org       NaN   Michael T. Cartwright   \n",
       "4             http://www.advisorshares.com  AADR.png                     NaN   \n",
       "\n",
       "                  exchange    market cap              sector  \\\n",
       "0  New York Stock Exchange  2.421807e+10          Healthcare   \n",
       "1  New York Stock Exchange  5.374967e+09     Basic Materials   \n",
       "2     Nasdaq Global Select  4.122368e+10  Financial Services   \n",
       "3  New York Stock Exchange  6.372010e+07          Healthcare   \n",
       "4                NYSE Arca  1.031612e+08                 NaN   \n",
       "\n",
       "                tag 1                   tag 2                           tag 3  \n",
       "0          Healthcare  Diagnostics & Research  Medical Diagnostics & Research  \n",
       "1     Basic Materials                Aluminum                 Metals & Mining  \n",
       "2  Financial Services        Asset Management                             NaN  \n",
       "3          Healthcare            Medical Care           Health Care Providers  \n",
       "4                 NaN                     NaN                             NaN  "
      ]
     },
     "execution_count": 30,
     "metadata": {},
     "output_type": "execute_result"
    }
   ],
   "source": [
    "df = pd.read_csv('companies.csv')\n",
    "print(df.shape)\n",
    "df.head()\n"
   ]
  },
  {
   "cell_type": "code",
   "execution_count": 31,
   "id": "00dbd803",
   "metadata": {},
   "outputs": [
    {
     "name": "stdout",
     "output_type": "stream",
     "text": [
      "(2188, 14)\n"
     ]
    }
   ],
   "source": [
    "df1 = df.dropna()\n",
    "print(df1.shape)"
   ]
  },
  {
   "cell_type": "code",
   "execution_count": 32,
   "id": "e6ad31aa",
   "metadata": {},
   "outputs": [],
   "source": [
    "df1.to_csv('stock_data.csv', index=False)"
   ]
  },
  {
   "cell_type": "code",
   "execution_count": 33,
   "id": "ca409ba7",
   "metadata": {},
   "outputs": [
    {
     "data": {
      "text/plain": [
       "array(['Healthcare', 'Basic Materials', 'Industrials',\n",
       "       'Consumer Cyclical', 'Technology', 'Real Estate',\n",
       "       'Financial Services', 'Consumer Defensive', 'Utilities', 'Energy'],\n",
       "      dtype=object)"
      ]
     },
     "execution_count": 33,
     "metadata": {},
     "output_type": "execute_result"
    }
   ],
   "source": [
    "df1.sector.unique()"
   ]
  },
  {
   "cell_type": "markdown",
   "id": "64e32b07",
   "metadata": {},
   "source": [
    "## funds data"
   ]
  },
  {
   "cell_type": "code",
   "execution_count": 34,
   "id": "81946046",
   "metadata": {},
   "outputs": [
    {
     "name": "stdout",
     "output_type": "stream",
     "text": [
      "(23783, 298)\n"
     ]
    },
    {
     "data": {
      "application/vnd.microsoft.datawrangler.viewer.v0+json": {
       "columns": [
        {
         "name": "index",
         "rawType": "int64",
         "type": "integer"
        },
        {
         "name": "fund_symbol",
         "rawType": "object",
         "type": "string"
        },
        {
         "name": "quote_type",
         "rawType": "object",
         "type": "string"
        },
        {
         "name": "region",
         "rawType": "object",
         "type": "string"
        },
        {
         "name": "fund_short_name",
         "rawType": "object",
         "type": "string"
        },
        {
         "name": "fund_long_name",
         "rawType": "object",
         "type": "string"
        },
        {
         "name": "currency",
         "rawType": "object",
         "type": "string"
        },
        {
         "name": "initial_investment",
         "rawType": "float64",
         "type": "float"
        },
        {
         "name": "subsequent_investment",
         "rawType": "float64",
         "type": "float"
        },
        {
         "name": "fund_category",
         "rawType": "object",
         "type": "string"
        },
        {
         "name": "fund_family",
         "rawType": "object",
         "type": "string"
        },
        {
         "name": "exchange_code",
         "rawType": "object",
         "type": "string"
        },
        {
         "name": "exchange_name",
         "rawType": "object",
         "type": "string"
        },
        {
         "name": "exchange_timezone",
         "rawType": "object",
         "type": "string"
        },
        {
         "name": "management_name",
         "rawType": "object",
         "type": "string"
        },
        {
         "name": "management_bio",
         "rawType": "object",
         "type": "string"
        },
        {
         "name": "management_start_date",
         "rawType": "object",
         "type": "string"
        },
        {
         "name": "total_net_assets",
         "rawType": "float64",
         "type": "float"
        },
        {
         "name": "year_to_date_return",
         "rawType": "float64",
         "type": "float"
        },
        {
         "name": "day50_moving_average",
         "rawType": "float64",
         "type": "float"
        },
        {
         "name": "day200_moving_average",
         "rawType": "float64",
         "type": "float"
        },
        {
         "name": "week52_high_low_change",
         "rawType": "float64",
         "type": "float"
        },
        {
         "name": "week52_high_low_change_perc",
         "rawType": "float64",
         "type": "float"
        },
        {
         "name": "week52_high",
         "rawType": "float64",
         "type": "float"
        },
        {
         "name": "week52_high_change",
         "rawType": "float64",
         "type": "float"
        },
        {
         "name": "week52_high_change_perc",
         "rawType": "float64",
         "type": "float"
        },
        {
         "name": "week52_low",
         "rawType": "float64",
         "type": "float"
        },
        {
         "name": "week52_low_change",
         "rawType": "float64",
         "type": "float"
        },
        {
         "name": "week52_low_change_perc",
         "rawType": "float64",
         "type": "float"
        },
        {
         "name": "investment_strategy",
         "rawType": "object",
         "type": "string"
        },
        {
         "name": "fund_yield",
         "rawType": "float64",
         "type": "float"
        },
        {
         "name": "morningstar_overall_rating",
         "rawType": "float64",
         "type": "float"
        },
        {
         "name": "morningstar_risk_rating",
         "rawType": "float64",
         "type": "float"
        },
        {
         "name": "inception_date",
         "rawType": "object",
         "type": "string"
        },
        {
         "name": "last_dividend",
         "rawType": "float64",
         "type": "float"
        },
        {
         "name": "last_cap_gain",
         "rawType": "float64",
         "type": "float"
        },
        {
         "name": "annual_holdings_turnover",
         "rawType": "float64",
         "type": "float"
        },
        {
         "name": "investment_type",
         "rawType": "object",
         "type": "string"
        },
        {
         "name": "size_type",
         "rawType": "object",
         "type": "string"
        },
        {
         "name": "fund_annual_report_net_expense_ratio",
         "rawType": "float64",
         "type": "float"
        },
        {
         "name": "category_annual_report_net_expense_ratio",
         "rawType": "float64",
         "type": "float"
        },
        {
         "name": "fund_prospectus_net_expense_ratio",
         "rawType": "float64",
         "type": "float"
        },
        {
         "name": "fund_prospectus_gross_expense_ratio",
         "rawType": "float64",
         "type": "float"
        },
        {
         "name": "fund_max_12b1_fee",
         "rawType": "float64",
         "type": "float"
        },
        {
         "name": "fund_max_front_end_sales_load",
         "rawType": "float64",
         "type": "float"
        },
        {
         "name": "category_max_front_end_sales_load",
         "rawType": "float64",
         "type": "float"
        },
        {
         "name": "fund_max_deferred_sales_load",
         "rawType": "float64",
         "type": "float"
        },
        {
         "name": "category_max_deferred_sales_load",
         "rawType": "float64",
         "type": "float"
        },
        {
         "name": "fund_year3_expense_projection",
         "rawType": "float64",
         "type": "float"
        },
        {
         "name": "fund_year5_expense_projection",
         "rawType": "float64",
         "type": "float"
        },
        {
         "name": "fund_year10_expense_projection",
         "rawType": "float64",
         "type": "float"
        },
        {
         "name": "asset_cash",
         "rawType": "float64",
         "type": "float"
        },
        {
         "name": "asset_stocks",
         "rawType": "float64",
         "type": "float"
        },
        {
         "name": "asset_bonds",
         "rawType": "float64",
         "type": "float"
        },
        {
         "name": "asset_others",
         "rawType": "float64",
         "type": "float"
        },
        {
         "name": "asset_preferred",
         "rawType": "float64",
         "type": "float"
        },
        {
         "name": "asset_convertible",
         "rawType": "float64",
         "type": "float"
        },
        {
         "name": "fund_sector_basic_materials",
         "rawType": "float64",
         "type": "float"
        },
        {
         "name": "fund_sector_communication_services",
         "rawType": "float64",
         "type": "float"
        },
        {
         "name": "fund_sector_consumer_cyclical",
         "rawType": "float64",
         "type": "float"
        },
        {
         "name": "fund_sector_consumer_defensive",
         "rawType": "float64",
         "type": "float"
        },
        {
         "name": "fund_sector_energy",
         "rawType": "float64",
         "type": "float"
        },
        {
         "name": "fund_sector_financial_services",
         "rawType": "float64",
         "type": "float"
        },
        {
         "name": "fund_sector_healthcare",
         "rawType": "float64",
         "type": "float"
        },
        {
         "name": "fund_sector_industrials",
         "rawType": "float64",
         "type": "float"
        },
        {
         "name": "fund_sector_real_estate",
         "rawType": "float64",
         "type": "float"
        },
        {
         "name": "fund_sector_technology",
         "rawType": "float64",
         "type": "float"
        },
        {
         "name": "fund_sector_utilities",
         "rawType": "float64",
         "type": "float"
        },
        {
         "name": "fund_price_book_ratio",
         "rawType": "float64",
         "type": "float"
        },
        {
         "name": "category_price_book_ratio",
         "rawType": "float64",
         "type": "float"
        },
        {
         "name": "fund_price_cashflow_ratio",
         "rawType": "float64",
         "type": "float"
        },
        {
         "name": "category_price_cashflow_ratio",
         "rawType": "float64",
         "type": "float"
        },
        {
         "name": "fund_price_earning_ratio",
         "rawType": "float64",
         "type": "float"
        },
        {
         "name": "category_price_earning_ratio",
         "rawType": "float64",
         "type": "float"
        },
        {
         "name": "fund_price_sales_ratio",
         "rawType": "float64",
         "type": "float"
        },
        {
         "name": "category_price_sales_ratio",
         "rawType": "float64",
         "type": "float"
        },
        {
         "name": "fund_median_market_cap",
         "rawType": "float64",
         "type": "float"
        },
        {
         "name": "category_median_market_cap",
         "rawType": "float64",
         "type": "float"
        },
        {
         "name": "fund_year3_earnings_growth",
         "rawType": "float64",
         "type": "float"
        },
        {
         "name": "category_year3_earnings_growth",
         "rawType": "float64",
         "type": "float"
        },
        {
         "name": "fund_bond_maturity",
         "rawType": "float64",
         "type": "float"
        },
        {
         "name": "category_bond_maturity",
         "rawType": "float64",
         "type": "float"
        },
        {
         "name": "fund_bond_duration",
         "rawType": "float64",
         "type": "float"
        },
        {
         "name": "category_bond_duration",
         "rawType": "float64",
         "type": "float"
        },
        {
         "name": "fund_bonds_us_government",
         "rawType": "float64",
         "type": "float"
        },
        {
         "name": "fund_bonds_aaa",
         "rawType": "float64",
         "type": "float"
        },
        {
         "name": "fund_bonds_aa",
         "rawType": "float64",
         "type": "float"
        },
        {
         "name": "fund_bonds_a",
         "rawType": "float64",
         "type": "float"
        },
        {
         "name": "fund_bonds_bbb",
         "rawType": "float64",
         "type": "float"
        },
        {
         "name": "fund_bonds_bb",
         "rawType": "float64",
         "type": "float"
        },
        {
         "name": "fund_bonds_b",
         "rawType": "float64",
         "type": "float"
        },
        {
         "name": "fund_bonds_below_b",
         "rawType": "float64",
         "type": "float"
        },
        {
         "name": "fund_bonds_others",
         "rawType": "float64",
         "type": "float"
        },
        {
         "name": "top10_holdings",
         "rawType": "object",
         "type": "string"
        },
        {
         "name": "top10_holdings_total_assets",
         "rawType": "float64",
         "type": "float"
        },
        {
         "name": "morningstar_return_rating",
         "rawType": "float64",
         "type": "float"
        },
        {
         "name": "returns_as_of_date",
         "rawType": "object",
         "type": "string"
        },
        {
         "name": "fund_return_ytd",
         "rawType": "float64",
         "type": "float"
        },
        {
         "name": "category_return_ytd",
         "rawType": "float64",
         "type": "float"
        },
        {
         "name": "fund_return_1month",
         "rawType": "float64",
         "type": "float"
        },
        {
         "name": "category_return_1month",
         "rawType": "float64",
         "type": "float"
        },
        {
         "name": "fund_return_3months",
         "rawType": "float64",
         "type": "float"
        },
        {
         "name": "category_return_3months",
         "rawType": "float64",
         "type": "float"
        },
        {
         "name": "fund_return_1year",
         "rawType": "float64",
         "type": "float"
        },
        {
         "name": "category_return_1year",
         "rawType": "float64",
         "type": "float"
        },
        {
         "name": "fund_return_3years",
         "rawType": "float64",
         "type": "float"
        },
        {
         "name": "category_return_3years",
         "rawType": "float64",
         "type": "float"
        },
        {
         "name": "fund_return_5years",
         "rawType": "float64",
         "type": "float"
        },
        {
         "name": "category_return_5years",
         "rawType": "float64",
         "type": "float"
        },
        {
         "name": "fund_return_10years",
         "rawType": "float64",
         "type": "float"
        },
        {
         "name": "category_return_10years",
         "rawType": "float64",
         "type": "float"
        },
        {
         "name": "fund_return_last_bull_market",
         "rawType": "float64",
         "type": "float"
        },
        {
         "name": "category_return_last_bull_market",
         "rawType": "float64",
         "type": "float"
        },
        {
         "name": "fund_return_last_bear_market",
         "rawType": "float64",
         "type": "float"
        },
        {
         "name": "category_return_last_bear_market",
         "rawType": "float64",
         "type": "float"
        },
        {
         "name": "years_up",
         "rawType": "float64",
         "type": "float"
        },
        {
         "name": "years_down",
         "rawType": "float64",
         "type": "float"
        },
        {
         "name": "fund_return_2020",
         "rawType": "float64",
         "type": "float"
        },
        {
         "name": "category_return_2020",
         "rawType": "float64",
         "type": "float"
        },
        {
         "name": "fund_return_2019",
         "rawType": "float64",
         "type": "float"
        },
        {
         "name": "category_return_2019",
         "rawType": "float64",
         "type": "float"
        },
        {
         "name": "fund_return_2018",
         "rawType": "float64",
         "type": "float"
        },
        {
         "name": "category_return_2018",
         "rawType": "float64",
         "type": "float"
        },
        {
         "name": "fund_return_2017",
         "rawType": "float64",
         "type": "float"
        },
        {
         "name": "category_return_2017",
         "rawType": "float64",
         "type": "float"
        },
        {
         "name": "fund_return_2016",
         "rawType": "float64",
         "type": "float"
        },
        {
         "name": "category_return_2016",
         "rawType": "float64",
         "type": "float"
        },
        {
         "name": "fund_return_2015",
         "rawType": "float64",
         "type": "float"
        },
        {
         "name": "category_return_2015",
         "rawType": "float64",
         "type": "float"
        },
        {
         "name": "fund_return_2014",
         "rawType": "float64",
         "type": "float"
        },
        {
         "name": "category_return_2014",
         "rawType": "float64",
         "type": "float"
        },
        {
         "name": "fund_return_2013",
         "rawType": "float64",
         "type": "float"
        },
        {
         "name": "category_return_2013",
         "rawType": "float64",
         "type": "float"
        },
        {
         "name": "fund_return_2012",
         "rawType": "float64",
         "type": "float"
        },
        {
         "name": "category_return_2012",
         "rawType": "float64",
         "type": "float"
        },
        {
         "name": "fund_return_2011",
         "rawType": "float64",
         "type": "float"
        },
        {
         "name": "category_return_2011",
         "rawType": "float64",
         "type": "float"
        },
        {
         "name": "fund_return_2010",
         "rawType": "float64",
         "type": "float"
        },
        {
         "name": "category_return_2010",
         "rawType": "float64",
         "type": "float"
        },
        {
         "name": "fund_return_2009",
         "rawType": "float64",
         "type": "float"
        },
        {
         "name": "category_return_2009",
         "rawType": "float64",
         "type": "float"
        },
        {
         "name": "fund_return_2008",
         "rawType": "float64",
         "type": "float"
        },
        {
         "name": "category_return_2008",
         "rawType": "float64",
         "type": "float"
        },
        {
         "name": "fund_return_2007",
         "rawType": "float64",
         "type": "float"
        },
        {
         "name": "category_return_2007",
         "rawType": "float64",
         "type": "float"
        },
        {
         "name": "fund_return_2006",
         "rawType": "float64",
         "type": "float"
        },
        {
         "name": "category_return_2006",
         "rawType": "float64",
         "type": "float"
        },
        {
         "name": "fund_return_2005",
         "rawType": "float64",
         "type": "float"
        },
        {
         "name": "category_return_2005",
         "rawType": "float64",
         "type": "float"
        },
        {
         "name": "fund_return_2004",
         "rawType": "float64",
         "type": "float"
        },
        {
         "name": "category_return_2004",
         "rawType": "float64",
         "type": "float"
        },
        {
         "name": "fund_return_2003",
         "rawType": "float64",
         "type": "float"
        },
        {
         "name": "category_return_2003",
         "rawType": "float64",
         "type": "float"
        },
        {
         "name": "fund_return_2002",
         "rawType": "float64",
         "type": "float"
        },
        {
         "name": "category_return_2002",
         "rawType": "float64",
         "type": "float"
        },
        {
         "name": "fund_return_2001",
         "rawType": "float64",
         "type": "float"
        },
        {
         "name": "category_return_2001",
         "rawType": "float64",
         "type": "float"
        },
        {
         "name": "fund_return_2000",
         "rawType": "float64",
         "type": "float"
        },
        {
         "name": "category_return_2000",
         "rawType": "float64",
         "type": "float"
        },
        {
         "name": "quarters_up",
         "rawType": "float64",
         "type": "float"
        },
        {
         "name": "quarters_down",
         "rawType": "float64",
         "type": "float"
        },
        {
         "name": "fund_return_2021_q3",
         "rawType": "float64",
         "type": "float"
        },
        {
         "name": "fund_return_2021_q2",
         "rawType": "float64",
         "type": "float"
        },
        {
         "name": "fund_return_2021_q1",
         "rawType": "float64",
         "type": "float"
        },
        {
         "name": "fund_return_2020_q4",
         "rawType": "float64",
         "type": "float"
        },
        {
         "name": "fund_return_2020_q3",
         "rawType": "float64",
         "type": "float"
        },
        {
         "name": "fund_return_2020_q2",
         "rawType": "float64",
         "type": "float"
        },
        {
         "name": "fund_return_2020_q1",
         "rawType": "float64",
         "type": "float"
        },
        {
         "name": "fund_return_2019_q4",
         "rawType": "float64",
         "type": "float"
        },
        {
         "name": "fund_return_2019_q3",
         "rawType": "float64",
         "type": "float"
        },
        {
         "name": "fund_return_2019_q2",
         "rawType": "float64",
         "type": "float"
        },
        {
         "name": "fund_return_2019_q1",
         "rawType": "float64",
         "type": "float"
        },
        {
         "name": "fund_return_2018_q4",
         "rawType": "float64",
         "type": "float"
        },
        {
         "name": "fund_return_2018_q3",
         "rawType": "float64",
         "type": "float"
        },
        {
         "name": "fund_return_2018_q2",
         "rawType": "float64",
         "type": "float"
        },
        {
         "name": "fund_return_2018_q1",
         "rawType": "float64",
         "type": "float"
        },
        {
         "name": "fund_return_2017_q4",
         "rawType": "float64",
         "type": "float"
        },
        {
         "name": "fund_return_2017_q3",
         "rawType": "float64",
         "type": "float"
        },
        {
         "name": "fund_return_2017_q2",
         "rawType": "float64",
         "type": "float"
        },
        {
         "name": "fund_return_2017_q1",
         "rawType": "float64",
         "type": "float"
        },
        {
         "name": "fund_return_2016_q4",
         "rawType": "float64",
         "type": "float"
        },
        {
         "name": "fund_return_2016_q3",
         "rawType": "float64",
         "type": "float"
        },
        {
         "name": "fund_return_2016_q2",
         "rawType": "float64",
         "type": "float"
        },
        {
         "name": "fund_return_2016_q1",
         "rawType": "float64",
         "type": "float"
        },
        {
         "name": "fund_return_2015_q4",
         "rawType": "float64",
         "type": "float"
        },
        {
         "name": "fund_return_2015_q3",
         "rawType": "float64",
         "type": "float"
        },
        {
         "name": "fund_return_2015_q2",
         "rawType": "float64",
         "type": "float"
        },
        {
         "name": "fund_return_2015_q1",
         "rawType": "float64",
         "type": "float"
        },
        {
         "name": "fund_return_2014_q4",
         "rawType": "float64",
         "type": "float"
        },
        {
         "name": "fund_return_2014_q3",
         "rawType": "float64",
         "type": "float"
        },
        {
         "name": "fund_return_2014_q2",
         "rawType": "float64",
         "type": "float"
        },
        {
         "name": "fund_return_2014_q1",
         "rawType": "float64",
         "type": "float"
        },
        {
         "name": "fund_return_2013_q4",
         "rawType": "float64",
         "type": "float"
        },
        {
         "name": "fund_return_2013_q3",
         "rawType": "float64",
         "type": "float"
        },
        {
         "name": "fund_return_2013_q2",
         "rawType": "float64",
         "type": "float"
        },
        {
         "name": "fund_return_2013_q1",
         "rawType": "float64",
         "type": "float"
        },
        {
         "name": "fund_return_2012_q4",
         "rawType": "float64",
         "type": "float"
        },
        {
         "name": "fund_return_2012_q3",
         "rawType": "float64",
         "type": "float"
        },
        {
         "name": "fund_return_2012_q2",
         "rawType": "float64",
         "type": "float"
        },
        {
         "name": "fund_return_2012_q1",
         "rawType": "float64",
         "type": "float"
        },
        {
         "name": "fund_return_2011_q4",
         "rawType": "float64",
         "type": "float"
        },
        {
         "name": "fund_return_2011_q3",
         "rawType": "float64",
         "type": "float"
        },
        {
         "name": "fund_return_2011_q2",
         "rawType": "float64",
         "type": "float"
        },
        {
         "name": "fund_return_2011_q1",
         "rawType": "float64",
         "type": "float"
        },
        {
         "name": "fund_return_2010_q4",
         "rawType": "float64",
         "type": "float"
        },
        {
         "name": "fund_return_2010_q3",
         "rawType": "float64",
         "type": "float"
        },
        {
         "name": "fund_return_2010_q2",
         "rawType": "float64",
         "type": "float"
        },
        {
         "name": "fund_return_2010_q1",
         "rawType": "float64",
         "type": "float"
        },
        {
         "name": "fund_return_2009_q4",
         "rawType": "float64",
         "type": "float"
        },
        {
         "name": "fund_return_2009_q3",
         "rawType": "float64",
         "type": "float"
        },
        {
         "name": "fund_return_2009_q2",
         "rawType": "float64",
         "type": "float"
        },
        {
         "name": "fund_return_2009_q1",
         "rawType": "float64",
         "type": "float"
        },
        {
         "name": "fund_return_2008_q4",
         "rawType": "float64",
         "type": "float"
        },
        {
         "name": "fund_return_2008_q3",
         "rawType": "float64",
         "type": "float"
        },
        {
         "name": "fund_return_2008_q2",
         "rawType": "float64",
         "type": "float"
        },
        {
         "name": "fund_return_2008_q1",
         "rawType": "float64",
         "type": "float"
        },
        {
         "name": "fund_return_2007_q4",
         "rawType": "float64",
         "type": "float"
        },
        {
         "name": "fund_return_2007_q3",
         "rawType": "float64",
         "type": "float"
        },
        {
         "name": "fund_return_2007_q2",
         "rawType": "float64",
         "type": "float"
        },
        {
         "name": "fund_return_2007_q1",
         "rawType": "float64",
         "type": "float"
        },
        {
         "name": "fund_return_2006_q4",
         "rawType": "float64",
         "type": "float"
        },
        {
         "name": "fund_return_2006_q3",
         "rawType": "float64",
         "type": "float"
        },
        {
         "name": "fund_return_2006_q2",
         "rawType": "float64",
         "type": "float"
        },
        {
         "name": "fund_return_2006_q1",
         "rawType": "float64",
         "type": "float"
        },
        {
         "name": "fund_return_2005_q4",
         "rawType": "float64",
         "type": "float"
        },
        {
         "name": "fund_return_2005_q3",
         "rawType": "float64",
         "type": "float"
        },
        {
         "name": "fund_return_2005_q2",
         "rawType": "float64",
         "type": "float"
        },
        {
         "name": "fund_return_2005_q1",
         "rawType": "float64",
         "type": "float"
        },
        {
         "name": "fund_return_2004_q4",
         "rawType": "float64",
         "type": "float"
        },
        {
         "name": "fund_return_2004_q3",
         "rawType": "float64",
         "type": "float"
        },
        {
         "name": "fund_return_2004_q2",
         "rawType": "float64",
         "type": "float"
        },
        {
         "name": "fund_return_2004_q1",
         "rawType": "float64",
         "type": "float"
        },
        {
         "name": "fund_return_2003_q4",
         "rawType": "float64",
         "type": "float"
        },
        {
         "name": "fund_return_2003_q3",
         "rawType": "float64",
         "type": "float"
        },
        {
         "name": "fund_return_2003_q2",
         "rawType": "float64",
         "type": "float"
        },
        {
         "name": "fund_return_2003_q1",
         "rawType": "float64",
         "type": "float"
        },
        {
         "name": "fund_return_2002_q4",
         "rawType": "float64",
         "type": "float"
        },
        {
         "name": "fund_return_2002_q3",
         "rawType": "float64",
         "type": "float"
        },
        {
         "name": "fund_return_2002_q2",
         "rawType": "float64",
         "type": "float"
        },
        {
         "name": "fund_return_2002_q1",
         "rawType": "float64",
         "type": "float"
        },
        {
         "name": "fund_return_2001_q4",
         "rawType": "float64",
         "type": "float"
        },
        {
         "name": "fund_return_2001_q3",
         "rawType": "float64",
         "type": "float"
        },
        {
         "name": "fund_return_2001_q2",
         "rawType": "float64",
         "type": "float"
        },
        {
         "name": "fund_return_2001_q1",
         "rawType": "float64",
         "type": "float"
        },
        {
         "name": "fund_return_2000_q4",
         "rawType": "float64",
         "type": "float"
        },
        {
         "name": "fund_return_2000_q3",
         "rawType": "float64",
         "type": "float"
        },
        {
         "name": "fund_return_2000_q2",
         "rawType": "float64",
         "type": "float"
        },
        {
         "name": "fund_return_2000_q1",
         "rawType": "float64",
         "type": "float"
        },
        {
         "name": "fund_alpha_3years",
         "rawType": "float64",
         "type": "float"
        },
        {
         "name": "fund_beta_3years",
         "rawType": "float64",
         "type": "float"
        },
        {
         "name": "fund_mean_annual_return_3years",
         "rawType": "float64",
         "type": "float"
        },
        {
         "name": "fund_r_squared_3years",
         "rawType": "float64",
         "type": "float"
        },
        {
         "name": "fund_stdev_3years",
         "rawType": "float64",
         "type": "float"
        },
        {
         "name": "fund_sharpe_ratio_3years",
         "rawType": "float64",
         "type": "float"
        },
        {
         "name": "fund_treynor_ratio_3years",
         "rawType": "float64",
         "type": "float"
        },
        {
         "name": "fund_alpha_5years",
         "rawType": "float64",
         "type": "float"
        },
        {
         "name": "fund_beta_5years",
         "rawType": "float64",
         "type": "float"
        },
        {
         "name": "fund_mean_annual_return_5years",
         "rawType": "float64",
         "type": "float"
        },
        {
         "name": "fund_r_squared_5years",
         "rawType": "float64",
         "type": "float"
        },
        {
         "name": "fund_stdev_5years",
         "rawType": "float64",
         "type": "float"
        },
        {
         "name": "fund_sharpe_ratio_5years",
         "rawType": "float64",
         "type": "float"
        },
        {
         "name": "fund_treynor_ratio_5years",
         "rawType": "float64",
         "type": "float"
        },
        {
         "name": "fund_alpha_10years",
         "rawType": "float64",
         "type": "float"
        },
        {
         "name": "fund_beta_10years",
         "rawType": "float64",
         "type": "float"
        },
        {
         "name": "fund_mean_annual_return_10years",
         "rawType": "float64",
         "type": "float"
        },
        {
         "name": "fund_r_squared_10years",
         "rawType": "float64",
         "type": "float"
        },
        {
         "name": "fund_stdev_10years",
         "rawType": "float64",
         "type": "float"
        },
        {
         "name": "fund_sharpe_ratio_10years",
         "rawType": "float64",
         "type": "float"
        },
        {
         "name": "fund_treynor_ratio_10years",
         "rawType": "float64",
         "type": "float"
        },
        {
         "name": "fund_return_category_rank_ytd",
         "rawType": "float64",
         "type": "float"
        },
        {
         "name": "fund_return_category_rank_1month",
         "rawType": "float64",
         "type": "float"
        },
        {
         "name": "fund_return_category_rank_3months",
         "rawType": "float64",
         "type": "float"
        },
        {
         "name": "fund_return_category_rank_1year",
         "rawType": "float64",
         "type": "float"
        },
        {
         "name": "fund_return_category_rank_3years",
         "rawType": "float64",
         "type": "float"
        },
        {
         "name": "fund_return_category_rank_5years",
         "rawType": "float64",
         "type": "float"
        },
        {
         "name": "load_adj_return_1year",
         "rawType": "float64",
         "type": "float"
        },
        {
         "name": "load_adj_return_3years",
         "rawType": "float64",
         "type": "float"
        },
        {
         "name": "load_adj_return_5years",
         "rawType": "float64",
         "type": "float"
        },
        {
         "name": "load_adj_return_10years",
         "rawType": "float64",
         "type": "float"
        },
        {
         "name": "sustainability_score",
         "rawType": "float64",
         "type": "float"
        },
        {
         "name": "sustainability_rank",
         "rawType": "float64",
         "type": "float"
        },
        {
         "name": "esg_peer_group",
         "rawType": "object",
         "type": "string"
        },
        {
         "name": "esg_peer_count",
         "rawType": "float64",
         "type": "float"
        },
        {
         "name": "esg_score",
         "rawType": "float64",
         "type": "float"
        },
        {
         "name": "peer_esg_min",
         "rawType": "float64",
         "type": "float"
        },
        {
         "name": "peer_esg_avg",
         "rawType": "float64",
         "type": "float"
        },
        {
         "name": "peer_esg_max",
         "rawType": "float64",
         "type": "float"
        },
        {
         "name": "environment_score",
         "rawType": "float64",
         "type": "float"
        },
        {
         "name": "peer_environment_min",
         "rawType": "float64",
         "type": "float"
        },
        {
         "name": "peer_environment_avg",
         "rawType": "float64",
         "type": "float"
        },
        {
         "name": "peer_environment_max",
         "rawType": "float64",
         "type": "float"
        },
        {
         "name": "social_score",
         "rawType": "float64",
         "type": "float"
        },
        {
         "name": "peer_social_min",
         "rawType": "float64",
         "type": "float"
        },
        {
         "name": "peer_social_avg",
         "rawType": "float64",
         "type": "float"
        },
        {
         "name": "peer_social_max",
         "rawType": "float64",
         "type": "float"
        },
        {
         "name": "governance_score",
         "rawType": "float64",
         "type": "float"
        },
        {
         "name": "peer_governance_min",
         "rawType": "float64",
         "type": "float"
        },
        {
         "name": "peer_governance_avg",
         "rawType": "float64",
         "type": "float"
        },
        {
         "name": "peer_governance_max",
         "rawType": "float64",
         "type": "float"
        }
       ],
       "ref": "4f0e9fa2-6e5c-4c54-b1e1-3303c4b9611d",
       "rows": [
        [
         "0",
         "AAAAX",
         "MutualFund",
         "US",
         "DWS RREEF Real Assets Fund - Cl",
         "DWS RREEF Real Assets Fund - Class A",
         "USD",
         "1000.0",
         "50.0",
         "World Allocation",
         "DWS",
         "NAS",
         "Nasdaq",
         "America/New_York",
         "John Vojticek",
         "Co-Head of Liquid Real Assets / Chief Investment Officer of Liquid Real Assets John W. Vojticek has served as a Managing Director and Chief Investment Officer of Real Estate & Infrastructure Securities and Global Portfolio Manager, DWS since July 2011 and was Co-Head of Americas Real Estate Securities from 2006 to July 2011. Mr. Vojticek was responsible for launching the firm's first listed infrastructure securities strategy in June 2008 and served as Head of the Listed Infrastructure Securities business from June 2008 until his appointment as Chief Information Officer in July 2011. Mr. Vojticek is an associate member of the National Association of Real Estate Investment Trusts. Mr. Vojticek holds a B. S. in Business Administration from the University of Southern California.",
         "2015-01-15",
         "2979347456.0",
         "0.21026",
         "12.788",
         "12.369",
         "2.44",
         "0.18683",
         "13.06",
         "-0.51",
         "-0.03905",
         "10.62",
         "1.93",
         "0.18173",
         "The investment seeks total return in excess of inflation through capital growth and current income. The fund will invest at least 80% of its net assets, plus the amount of any borrowings for investment purposes, in a combination of investments that the Advisor believes offer exposure to \"real assets.\" It generally invests between 25% and 75% of fund assets in securities of foreign issuers, including up to 10% of fund assets in issuers located in countries with new or emerging markets.",
         "0.0186",
         "3.0",
         "3.0",
         "2007-07-30",
         "0.1466",
         null,
         "0.74",
         "Value",
         "Large",
         "0.0122",
         "0.0102",
         "0.0122",
         "0.0136",
         "0.0024",
         "0.0575",
         "0.0504",
         null,
         "0.0136",
         "968.0",
         "1264.0",
         "2105.0",
         "0.0167",
         "0.6436",
         "0.1142",
         "0.2255",
         "0.0",
         "0.0",
         "0.1607",
         "0.0088",
         "0.019",
         "0.0293",
         "0.1852",
         "0.0",
         "0.0",
         "0.1413",
         "0.352",
         "0.0012",
         "0.1025",
         "1.91",
         "2.28",
         "12.09",
         "11.96",
         "23.34",
         "19.86",
         "2.36",
         "1.73",
         "22401.91",
         "68472.9",
         "-1.39",
         "9.16",
         null,
         "6.11",
         null,
         "5.8",
         null,
         null,
         null,
         null,
         null,
         null,
         null,
         null,
         null,
         "\"Cayman Real Assets Fund Ltd.\": 0.1098, CCI (\"Crown Castle International Corp\"): 0.0258, LNG (\"Cheniere Energy Inc\"): 0.0241, \"United States Treasury Notes 1.62%\": 0.0189, FCX (\"Freeport-McMoRan Inc\"): 0.0175, \"United States Treasury Notes 0.12%\": 0.0156, AMT (\"American Tower Corp\"): 0.0146, WMB (\"Williams Companies Inc\"): 0.0144, \"Lme Pri Alum Futr Jul21 Xlme 20210719\": 0.0139",
         "0.2546",
         "3.0",
         "2021-11-24",
         "0.21026",
         "0.0858",
         "0.00077",
         "0.0172",
         "0.0392",
         "0.0683",
         "0.2297",
         "0.277",
         "0.13811",
         "0.0784",
         "0.09078",
         "0.0822",
         "0.06058",
         "0.0591",
         "0.0811",
         "0.1349",
         "-0.1123",
         "-0.1313",
         "9.0",
         "4.0",
         "0.03703",
         "0.06177",
         "0.21426",
         "0.16097",
         "-0.05369",
         "-0.08259",
         "0.14672",
         "0.14786",
         "0.04008",
         "0.06038",
         "-0.09714",
         "-0.04148",
         "0.03026",
         "0.01536",
         "0.00821",
         "0.10069",
         "0.09324",
         "0.1074",
         "-0.03459",
         "-0.03993",
         "0.12203",
         "0.10578",
         "0.25582",
         "0.24371",
         "-0.27129",
         "-0.28985",
         null,
         "0.11387",
         null,
         "0.16612",
         null,
         "0.06556",
         null,
         "0.15242",
         null,
         "0.2532",
         null,
         "-0.02156",
         null,
         "-0.03229",
         null,
         "0.00226",
         "34.0",
         "19.0",
         null,
         null,
         "0.05893",
         "0.10312",
         "0.04202",
         "0.0975",
         "-0.17797",
         "0.0377",
         "0.01479",
         "0.02229",
         "0.12795",
         "-0.06787",
         null,
         "0.04136",
         "-0.0251",
         "0.03887",
         "0.03122",
         "0.02097",
         "0.04841",
         "-0.04097",
         "-0.00896",
         "0.05597",
         "0.03632",
         "-0.01273",
         "-0.06084",
         "-0.02833",
         "0.00214",
         "-0.00229",
         "-0.02741",
         "0.03619",
         "0.02465",
         "0.02055",
         "0.00874",
         "-0.03607",
         "0.01599",
         "0.00831",
         "0.044",
         "-0.00356",
         "0.04224",
         "0.03278",
         "-0.08395",
         "-0.00384",
         "0.02436",
         "0.03734",
         "0.08551",
         "-0.0253",
         "0.0223",
         "0.03804",
         "0.09948",
         "0.1511",
         "-0.0441",
         "-0.16481",
         "-0.14615",
         "0.02386",
         "-0.00196",
         null,
         null,
         null,
         "0.00742",
         null,
         null,
         null,
         null,
         null,
         null,
         null,
         null,
         null,
         null,
         null,
         null,
         null,
         null,
         null,
         null,
         null,
         null,
         null,
         null,
         null,
         null,
         null,
         null,
         null,
         null,
         null,
         null,
         "-1.61",
         "1.12",
         "0.91",
         "87.22",
         "13.68",
         "0.71",
         "8.26",
         "-2.65",
         "1.12",
         "0.72",
         "82.24",
         "11.31",
         "0.66",
         "6.44",
         "-2.79",
         "0.96",
         "0.42",
         "77.56",
         "9.35",
         "0.48",
         "4.25",
         "9.0",
         "75.0",
         "4.0",
         "15.0",
         "19.0",
         "47.0",
         "0.2456",
         "0.0835",
         "0.0707",
         "0.0409",
         "22.46",
         "31.0",
         "US Fund World Allocation",
         "377.0",
         "22.46",
         "19.55",
         "23.59",
         "28.93",
         "8.42",
         "1.93",
         "5.05",
         "10.58",
         "7.43",
         "5.98",
         "9.07",
         "11.3",
         "5.43",
         "4.26",
         "7.14",
         "8.11"
        ],
        [
         "1",
         "AAAEX",
         "MutualFund",
         "US",
         "AllianzGI Health Sciences Fund ",
         "Virtus AllianzGI Health Sciences Fund Class P",
         "USD",
         "1000000.0",
         null,
         "Health",
         "Virtus",
         "NAS",
         "Nasdaq",
         "America/New_York",
         "Christopher Chin",
         null,
         "2020-08-27",
         "195348944.0",
         "0.19077",
         "40.513",
         "38.65",
         "8.53",
         "0.20256",
         "42.11",
         "-2.77",
         "-0.06578",
         "33.58",
         "5.76",
         "0.17153",
         "The investment seeks long-term capital appreciation. The fund seeks to achieve its objective by normally investing at least 80% of its net assets (plus borrowings made for investment purposes) in health sciences-related companies. The portfolio manager considers health sciences-related companies to include companies that design, manufacture or sell products or services used for or in connection with healthcare, medicine or life sciences. The fund will invest primarily in common stocks and other equity securities.",
         null,
         "3.0",
         "2.0",
         "2020-07-13",
         "0.24262",
         null,
         "0.91",
         "Blend",
         "Large",
         "0.0109",
         "0.0103",
         "0.0109",
         "0.0109",
         null,
         null,
         "0.0537",
         null,
         "0.0119",
         "346.0",
         "599.0",
         "1326.0",
         "0.0309",
         "0.9691",
         "0.0",
         "0.0",
         "0.0",
         "0.0",
         "0.0368",
         "0.0",
         "0.0034",
         "0.0",
         "0.0",
         "0.0",
         "0.9598",
         "0.0",
         "0.0",
         "0.0",
         "0.0",
         "4.68",
         "5.09",
         "14.38",
         "18.76",
         "26.87",
         "27.55",
         "2.13",
         "4.21",
         "56096.51",
         "34189.17",
         "11.95",
         "30.26",
         null,
         null,
         null,
         null,
         null,
         null,
         null,
         null,
         null,
         null,
         null,
         null,
         null,
         "AZN. L (\"AstraZeneca PLC ADR\"): 0.0585, MDT (\"Medtronic PLC\"): 0.0551, BMY (\"Bristol-Myers Squibb Company\"): 0.0534, PFE (\"Pfizer Inc\"): 0.0498, LLY (\"Eli Lilly and Co\"): 0.049, AVTR (\"Avantor Inc\"): 0.0357, ANTM (\"Anthem Inc\"): 0.0349, NVS (\"Novartis AG ADR\"): 0.0341, HZNP (\"Horizon Therapeutics PLC\"): 0.0308, TFX (\"Teleflex Inc\"): 0.0272",
         "0.4285",
         "3.0",
         "2021-11-24",
         "0.19077",
         "0.0315",
         "-0.00662",
         "-0.0117",
         "-0.02221",
         "0.0138",
         "0.23934",
         "0.2486",
         null,
         "0.1491",
         null,
         "0.1429",
         null,
         "0.1459",
         "0.1989",
         "0.2306",
         "-0.1497",
         "-0.1388",
         null,
         null,
         null,
         "0.27625",
         null,
         "0.26225",
         null,
         "-0.004",
         null,
         "0.24305",
         null,
         "-0.10599",
         null,
         "0.08047",
         null,
         "0.27249",
         null,
         "0.48169",
         null,
         "0.21547",
         null,
         "0.07662",
         null,
         "0.08378",
         null,
         "0.22476",
         null,
         "-0.23432",
         null,
         "0.09266",
         null,
         "0.04267",
         null,
         "0.09641",
         null,
         "0.09841",
         null,
         "0.32511",
         null,
         "-0.28134",
         null,
         "-0.11258",
         null,
         "0.56746",
         "2.0",
         "0.0",
         null,
         null,
         "0.03351",
         null,
         null,
         null,
         "0.07306",
         null,
         null,
         null,
         null,
         null,
         null,
         null,
         null,
         null,
         null,
         null,
         null,
         null,
         null,
         null,
         null,
         null,
         null,
         null,
         null,
         null,
         null,
         null,
         null,
         null,
         null,
         null,
         null,
         null,
         null,
         null,
         null,
         null,
         null,
         null,
         null,
         null,
         null,
         null,
         null,
         null,
         null,
         null,
         null,
         null,
         null,
         null,
         null,
         null,
         null,
         null,
         null,
         null,
         null,
         null,
         null,
         null,
         null,
         null,
         null,
         null,
         null,
         null,
         null,
         null,
         null,
         null,
         null,
         null,
         null,
         null,
         null,
         null,
         null,
         null,
         null,
         null,
         null,
         null,
         null,
         "6.59",
         "0.71",
         "1.49",
         "65.55",
         "15.82",
         "1.05",
         "23.46",
         "3.18",
         "0.76",
         "1.22",
         "58.08",
         "14.41",
         "0.93",
         "17.65",
         "6.14",
         "0.75",
         "1.18",
         "55.79",
         "14.16",
         "0.96",
         "17.78",
         "9.0",
         "48.0",
         "13.0",
         "45.0",
         "24.0",
         "62.0",
         "0.2795",
         "0.1795",
         "0.1448",
         "0.1401",
         "27.05",
         "51.0",
         "US Fund Health",
         "168.0",
         "27.05",
         "21.07",
         "27.98",
         "36.79",
         "1.42",
         "0.34",
         "1.43",
         "3.27",
         "12.96",
         "9.52",
         "12.87",
         "15.08",
         "8.4",
         "4.96",
         "7.68",
         "10.3"
        ],
        [
         "2",
         "AAAFX",
         "MutualFund",
         "US",
         null,
         "American Century One Choice Blend+ 2015 Portfolio Investor Class",
         "USD",
         "2500.0",
         "50.0",
         "Target-Date 2015",
         "American Century Investments",
         "NAS",
         "Nasdaq",
         "America/New_York",
         "Scott A. Wilson",
         "Mr. Wilson, Vice President and Portfolio Manager, has been a member of the team since 2013. He joined American Century Investments in 1992, became an analyst in 1994 and a portfolio manager in 2011. He has a bachelor's degree in business administration from Pepperdine University and is a CFA charterholder.",
         "2021-03-10",
         "25946.0",
         null,
         "10.544",
         "10.392",
         "0.76",
         "0.07096",
         "10.71",
         "-0.29",
         "-0.02708",
         "9.95",
         "0.47",
         "0.04724",
         "The investment seeks the highest total return consistent with its asset mix. The fund is a \"fund of funds,\" meaning that it seeks to achieve its objective by investing in other mutual funds and exchange-traded funds (ETFs) advised by American Century (collectively, the underlying funds) that represent a variety of asset classes and investment styles. The underlying stock funds draw on growth, value and quantitative investment techniques and diversify investments among small, medium and large U.S. and foreign companies.",
         null,
         null,
         null,
         "2021-03-10",
         null,
         null,
         null,
         "Blend",
         "Large",
         "0.0058",
         "0.0041",
         "0.0058",
         "0.006",
         null,
         null,
         "0.0525",
         null,
         "0.01",
         "186.0",
         null,
         null,
         "0.092",
         "0.3496",
         "0.4897",
         "0.0575",
         "0.0013",
         "0.0029",
         "0.029",
         "0.072",
         "0.1184",
         "0.0822",
         "0.0355",
         "0.1679",
         "0.1342",
         "0.1277",
         "0.0376",
         "0.1696",
         "0.0258",
         "2.57",
         "2.93",
         "13.06",
         "13.7",
         "24.95",
         "22.88",
         "1.99",
         "2.16",
         "48155.1",
         "76075.75",
         "12.51",
         "11.39",
         "7.6",
         "5.77",
         "5.97",
         "5.7",
         "0.0",
         "0.4425",
         "0.0638",
         "0.1628",
         "0.1958",
         "0.0621",
         "0.0411",
         "0.0152",
         "0.0166",
         "AVBNX (\"Avantis© Core Fixed Income G\"): 0.2708, AGBGX (\"American Century Global Bond G\"): 0.1237, AVUNX (\"Avantis© U.S. Equity G\"): 0.081, ACLLX (\"American Century NT Focused Lg Cap Val G\"): 0.0649, APOGX (\"American Century Short Dur Infl ProBd G\"): 0.0622, AVGNX (\"Avantis© Short-Term Fixed Income G\"): 0.0619, ACFGX (\"American Century Focused Dynamic Gr G\"): 0.0526, AINGX (\"American Century Inflation-Adjs Bond G\"): 0.0495, LVOL (\"American Century Low Volatility ETF\"): 0.0478, AVDNX (\"Avantis© International Equity G\"): 0.0414",
         "0.8558",
         null,
         "2021-11-24",
         null,
         "0.0446",
         "-0.00095",
         "0.0089",
         "0.00095",
         "0.0401",
         null,
         "0.182",
         null,
         "0.0885",
         null,
         "0.0825",
         null,
         "0.067",
         null,
         "0.1345",
         null,
         "-0.1049",
         null,
         null,
         null,
         "0.10747",
         null,
         "0.15445",
         null,
         "-0.03857",
         null,
         "0.11287",
         null,
         "0.06115",
         null,
         "-0.01339",
         null,
         "0.0448",
         null,
         "0.09652",
         null,
         "0.10645",
         null,
         "-0.00272",
         null,
         "0.115",
         null,
         "0.23547",
         null,
         "-0.27759",
         null,
         "0.05843",
         null,
         "0.11127",
         null,
         "0.0464",
         null,
         "0.07393",
         null,
         "0.14605",
         null,
         "-0.08353",
         null,
         "-0.0699",
         null,
         "0.00207",
         null,
         null,
         null,
         null,
         null,
         null,
         null,
         null,
         null,
         null,
         null,
         null,
         null,
         null,
         null,
         null,
         null,
         null,
         null,
         null,
         null,
         null,
         null,
         null,
         null,
         null,
         null,
         null,
         null,
         null,
         null,
         null,
         null,
         null,
         null,
         null,
         null,
         null,
         null,
         null,
         null,
         null,
         null,
         null,
         null,
         null,
         null,
         null,
         null,
         null,
         null,
         null,
         null,
         null,
         null,
         null,
         null,
         null,
         null,
         null,
         null,
         null,
         null,
         null,
         null,
         null,
         null,
         null,
         null,
         null,
         null,
         null,
         null,
         null,
         null,
         null,
         null,
         null,
         null,
         null,
         null,
         null,
         null,
         null,
         null,
         null,
         null,
         null,
         null,
         null,
         null,
         null,
         null,
         null,
         null,
         null,
         null,
         null,
         null,
         null,
         null,
         null,
         null,
         null,
         null,
         null,
         null,
         null,
         null,
         null,
         null,
         "49.0",
         "70.0",
         null,
         null,
         null,
         null,
         null,
         null,
         null,
         null,
         null,
         null,
         null,
         null,
         null,
         null,
         null,
         null,
         null,
         null,
         null,
         null,
         null,
         null,
         null,
         null,
         null,
         null,
         null
        ],
        [
         "3",
         "AAAGX",
         "MutualFund",
         "US",
         "Thrivent Large Cap Growth Fund ",
         "Thrivent Large Cap Growth Fund Class A",
         "USD",
         "2000.0",
         "50.0",
         "Large Growth",
         "Thrivent Funds",
         "NAS",
         "Nasdaq",
         "America/New_York",
         "Lauri Brunner",
         "Ms. Brunner has been with Thrivent Financial since 2007 and currently is a Senior Equity Portfolio Manager.",
         "2018-09-30",
         "2078606848.0",
         "0.24559",
         "18.485",
         "17.294",
         "4.64",
         "0.23955",
         "19.37",
         "-1.34",
         "-0.06918",
         "14.73",
         "3.3",
         "0.22403",
         "The investment seeks long-term capital appreciation. The fund invests at least 80% of its net assets (plus the amount of any borrowing for investment purposes) in equity securities of large companies. The Adviser focuses mainly on the equity securities of large domestic and international companies which have market capitalizations equivalent to those included in widely known indices such as the Russell 1000 Growth Index, S&P 500 Index, or the large company market capitalization classifications published by Lipper, Inc. These companies typically have a market capitalization of approximately $8 billion or more. The fund is non-diversified.",
         null,
         "4.0",
         "4.0",
         "1999-10-29",
         null,
         null,
         "0.44",
         "Growth",
         "Large",
         "0.0108",
         "0.0099",
         "0.0108",
         "0.0112",
         "0.0025",
         "0.045",
         "0.0536",
         null,
         "0.0133",
         "786.0",
         "1035.0",
         "1748.0",
         "0.0182",
         "0.9818",
         "0.0",
         "0.0",
         "0.0",
         "0.0",
         "0.0",
         "0.1617",
         "0.1957",
         "0.0046",
         "0.0",
         "0.1458",
         "0.1326",
         "0.0346",
         "0.0",
         "0.325",
         "0.0",
         "10.2",
         "8.12",
         "26.3",
         "23.44",
         "37.45",
         "33.85",
         "5.74",
         "4.75",
         "337976.7",
         "304809.9",
         "32.36",
         "23.69",
         null,
         "3.63",
         null,
         "2.73",
         null,
         null,
         null,
         null,
         null,
         null,
         null,
         null,
         null,
         "AMZN (\"Amazon.com Inc\"): 0.1102, MSFT (\"Microsoft Corp\"): 0.0755, AAPL (\"Apple Inc\"): 0.0752, GOOGL (\"Alphabet Inc A\"): 0.0749, PYPL (\"PayPal Holdings Inc\"): 0.0469, FB (\"Facebook Inc A\"): 0.0464, MA (\"Mastercard Inc A\"): 0.0374, ADBE (\"Adobe Inc\"): 0.0313, SQ (\"Square Inc A\"): 0.0295, NVDA (\"NVIDIA Corp\"): 0.0292",
         "0.5565",
         "4.0",
         "2021-11-24",
         "0.24559",
         "0.0706",
         "0.03698",
         "-0.0101",
         "0.04608",
         "0.057",
         "0.30705",
         "0.4025",
         "0.31791",
         "0.209",
         "0.19264",
         "0.2041",
         "0.19622",
         "0.1523",
         "0.2719",
         "0.2595",
         "-0.2007",
         "-0.1728",
         "15.0",
         "6.0",
         "0.42443",
         "0.35862",
         "0.3161",
         "0.31897",
         "0.01475",
         "-0.02091",
         "0.27701",
         "0.27669",
         "-0.02261",
         "0.03227",
         "0.09691",
         "0.03601",
         "0.10052",
         "0.09996",
         "0.34886",
         "0.3392",
         "0.17786",
         "0.1534",
         "-0.06287",
         "-0.02461",
         "0.09698",
         "0.15529",
         "0.39249",
         "0.35683",
         "-0.42808",
         "-0.40668",
         "0.15774",
         "0.13354",
         "0.06325",
         "0.07054",
         "0.06554",
         "0.06714",
         "0.07809",
         "0.07808",
         "0.2895",
         "0.28658",
         "-0.30137",
         "-0.27642",
         "-0.24329",
         "-0.22303",
         "-0.1436",
         "-0.13047",
         "57.0",
         "28.0",
         null,
         null,
         "0.01176",
         "0.09448",
         "0.1378",
         "0.28807",
         "-0.11197",
         "0.10287",
         "-0.00626",
         "0.03519",
         "0.16004",
         "-0.16672",
         "0.0929",
         "0.06835",
         "0.04297",
         "0.06374",
         "0.0455",
         "0.05117",
         "0.09235",
         "-0.00857",
         "0.06234",
         "-0.02963",
         "-0.04368",
         "0.09557",
         "-0.04884",
         "0.01058",
         "0.04162",
         "0.01453",
         "0.02375",
         "0.05263",
         "0.00662",
         "0.11575",
         "0.10984",
         "0.00494",
         "0.08393",
         "-0.01258",
         "0.08175",
         "-0.05225",
         "0.16352",
         "0.09908",
         "-0.17176",
         "-0.00945",
         "0.03929",
         "0.11379",
         "0.10386",
         "-0.14286",
         "0.04095",
         "0.06918",
         "0.15079",
         "0.16667",
         "-0.02994",
         "-0.24263",
         "-0.14865",
         "0.0137",
         "-0.125",
         "0.00584",
         "0.06112",
         "0.06318",
         "0.02026",
         "0.05091",
         "0.03607",
         "-0.05133",
         "0.02935",
         "0.03534",
         "0.0444",
         "0.0305",
         "-0.04375",
         "0.09887",
         "-0.04625",
         "0.01411",
         "0.01436",
         "0.10474",
         "0.03582",
         "0.14002",
         "-0.01153",
         "0.05091",
         "-0.16159",
         "-0.17726",
         "-0.03626",
         "0.13541",
         "-0.19514",
         "0.05681",
         "-0.21646",
         "-0.16155",
         "-0.01212",
         "-0.0444",
         "0.08198",
         "4.92",
         "1.03",
         "2.03",
         "88.36",
         "20.21",
         "1.14",
         "22.95",
         "5.01",
         "1.03",
         "1.91",
         "85.29",
         "16.66",
         "1.3",
         "22.1",
         "0.91",
         "1.08",
         "1.4",
         "85.76",
         "15.8",
         "1.03",
         "15.02",
         "33.0",
         "18.0",
         "15.0",
         "43.0",
         "26.0",
         "26.0",
         "0.3532",
         "0.2287",
         "0.2269",
         "0.1624",
         "20.55",
         "26.0",
         "US Fund Large Growth",
         "1333.0",
         "20.55",
         "17.95",
         "21.44",
         "31.11",
         "2.04",
         "1.15",
         "2.7",
         "5.81",
         "10.13",
         "7.25",
         "10.14",
         "11.97",
         "8.03",
         "5.3",
         "7.54",
         "8.9"
        ],
        [
         "4",
         "AAAHX",
         "MutualFund",
         "US",
         null,
         "American Century One Choice Blend+ 2015 Portfolio I Class",
         "USD",
         "5000000.0",
         null,
         "Target-Date 2015",
         "American Century Investments",
         "NAS",
         "Nasdaq",
         "America/New_York",
         "Scott A. Wilson",
         "Mr. Wilson, Vice President and Portfolio Manager, has been a member of the team since 2013. He joined American Century Investments in 1992, became an analyst in 1994 and a portfolio manager in 2011. He has a bachelor's degree in business administration from Pepperdine University and is a CFA charterholder.",
         "2021-03-10",
         "25946.0",
         null,
         "10.552",
         "10.398",
         "0.77",
         "0.07183",
         "10.72",
         "-0.29",
         "-0.02705",
         "9.95",
         "0.48",
         "0.04824",
         "The investment seeks the highest total return consistent with its asset mix. The fund is a \"fund of funds,\" meaning that it seeks to achieve its objective by investing in other mutual funds and exchange-traded funds (ETFs) advised by American Century (collectively, the underlying funds) that represent a variety of asset classes and investment styles. The underlying stock funds draw on growth, value and quantitative investment techniques and diversify investments among small, medium and large U.S. and foreign companies.",
         null,
         null,
         null,
         "2021-03-10",
         null,
         null,
         null,
         "Blend",
         "Large",
         "0.0038",
         "0.0041",
         "0.0038",
         "0.004",
         null,
         null,
         "0.0525",
         null,
         "0.01",
         "122.0",
         null,
         null,
         "0.092",
         "0.3496",
         "0.4897",
         "0.0575",
         "0.0013",
         "0.0029",
         "0.029",
         "0.072",
         "0.1184",
         "0.0822",
         "0.0355",
         "0.1679",
         "0.1342",
         "0.1277",
         "0.0376",
         "0.1696",
         "0.0258",
         "2.57",
         "2.93",
         "13.06",
         "13.7",
         "24.95",
         "22.88",
         "1.99",
         "2.16",
         "48155.1",
         "76075.75",
         "12.51",
         "11.39",
         "7.6",
         "5.77",
         "5.97",
         "5.7",
         "0.0",
         "0.4425",
         "0.0638",
         "0.1628",
         "0.1958",
         "0.0621",
         "0.0411",
         "0.0152",
         "0.0166",
         "AVBNX (\"Avantis© Core Fixed Income G\"): 0.2708, AGBGX (\"American Century Global Bond G\"): 0.1237, AVUNX (\"Avantis© U.S. Equity G\"): 0.081, ACLLX (\"American Century NT Focused Lg Cap Val G\"): 0.0649, APOGX (\"American Century Short Dur Infl ProBd G\"): 0.0622, AVGNX (\"Avantis© Short-Term Fixed Income G\"): 0.0619, ACFGX (\"American Century Focused Dynamic Gr G\"): 0.0526, AINGX (\"American Century Inflation-Adjs Bond G\"): 0.0495, LVOL (\"American Century Low Volatility ETF\"): 0.0478, AVDNX (\"Avantis© International Equity G\"): 0.0414",
         "0.8558",
         null,
         "2021-11-24",
         null,
         "0.0446",
         null,
         "0.0089",
         "0.00095",
         "0.0401",
         null,
         "0.182",
         null,
         "0.0885",
         null,
         "0.0825",
         null,
         "0.067",
         null,
         "0.1345",
         null,
         "-0.1049",
         null,
         null,
         null,
         "0.10747",
         null,
         "0.15445",
         null,
         "-0.03857",
         null,
         "0.11287",
         null,
         "0.06115",
         null,
         "-0.01339",
         null,
         "0.0448",
         null,
         "0.09652",
         null,
         "0.10645",
         null,
         "-0.00272",
         null,
         "0.115",
         null,
         "0.23547",
         null,
         "-0.27759",
         null,
         "0.05843",
         null,
         "0.11127",
         null,
         "0.0464",
         null,
         "0.07393",
         null,
         "0.14605",
         null,
         "-0.08353",
         null,
         "-0.0699",
         null,
         "0.00207",
         null,
         null,
         null,
         null,
         null,
         null,
         null,
         null,
         null,
         null,
         null,
         null,
         null,
         null,
         null,
         null,
         null,
         null,
         null,
         null,
         null,
         null,
         null,
         null,
         null,
         null,
         null,
         null,
         null,
         null,
         null,
         null,
         null,
         null,
         null,
         null,
         null,
         null,
         null,
         null,
         null,
         null,
         null,
         null,
         null,
         null,
         null,
         null,
         null,
         null,
         null,
         null,
         null,
         null,
         null,
         null,
         null,
         null,
         null,
         null,
         null,
         null,
         null,
         null,
         null,
         null,
         null,
         null,
         null,
         null,
         null,
         null,
         null,
         null,
         null,
         null,
         null,
         null,
         null,
         null,
         null,
         null,
         null,
         null,
         null,
         null,
         null,
         null,
         null,
         null,
         null,
         null,
         null,
         null,
         null,
         null,
         null,
         null,
         null,
         null,
         null,
         null,
         null,
         null,
         null,
         null,
         null,
         null,
         null,
         null,
         null,
         "29.0",
         "59.0",
         null,
         null,
         null,
         null,
         null,
         null,
         null,
         null,
         null,
         null,
         null,
         null,
         null,
         null,
         null,
         null,
         null,
         null,
         null,
         null,
         null,
         null,
         null,
         null,
         null,
         null,
         null
        ]
       ],
       "shape": {
        "columns": 298,
        "rows": 5
       }
      },
      "text/html": [
       "<div>\n",
       "<style scoped>\n",
       "    .dataframe tbody tr th:only-of-type {\n",
       "        vertical-align: middle;\n",
       "    }\n",
       "\n",
       "    .dataframe tbody tr th {\n",
       "        vertical-align: top;\n",
       "    }\n",
       "\n",
       "    .dataframe thead th {\n",
       "        text-align: right;\n",
       "    }\n",
       "</style>\n",
       "<table border=\"1\" class=\"dataframe\">\n",
       "  <thead>\n",
       "    <tr style=\"text-align: right;\">\n",
       "      <th></th>\n",
       "      <th>fund_symbol</th>\n",
       "      <th>quote_type</th>\n",
       "      <th>region</th>\n",
       "      <th>fund_short_name</th>\n",
       "      <th>fund_long_name</th>\n",
       "      <th>currency</th>\n",
       "      <th>initial_investment</th>\n",
       "      <th>subsequent_investment</th>\n",
       "      <th>fund_category</th>\n",
       "      <th>fund_family</th>\n",
       "      <th>...</th>\n",
       "      <th>peer_environment_avg</th>\n",
       "      <th>peer_environment_max</th>\n",
       "      <th>social_score</th>\n",
       "      <th>peer_social_min</th>\n",
       "      <th>peer_social_avg</th>\n",
       "      <th>peer_social_max</th>\n",
       "      <th>governance_score</th>\n",
       "      <th>peer_governance_min</th>\n",
       "      <th>peer_governance_avg</th>\n",
       "      <th>peer_governance_max</th>\n",
       "    </tr>\n",
       "  </thead>\n",
       "  <tbody>\n",
       "    <tr>\n",
       "      <th>0</th>\n",
       "      <td>AAAAX</td>\n",
       "      <td>MutualFund</td>\n",
       "      <td>US</td>\n",
       "      <td>DWS RREEF Real Assets Fund - Cl</td>\n",
       "      <td>DWS RREEF Real Assets Fund - Class A</td>\n",
       "      <td>USD</td>\n",
       "      <td>1000.0</td>\n",
       "      <td>50.0</td>\n",
       "      <td>World Allocation</td>\n",
       "      <td>DWS</td>\n",
       "      <td>...</td>\n",
       "      <td>5.05</td>\n",
       "      <td>10.58</td>\n",
       "      <td>7.43</td>\n",
       "      <td>5.98</td>\n",
       "      <td>9.07</td>\n",
       "      <td>11.30</td>\n",
       "      <td>5.43</td>\n",
       "      <td>4.26</td>\n",
       "      <td>7.14</td>\n",
       "      <td>8.11</td>\n",
       "    </tr>\n",
       "    <tr>\n",
       "      <th>1</th>\n",
       "      <td>AAAEX</td>\n",
       "      <td>MutualFund</td>\n",
       "      <td>US</td>\n",
       "      <td>AllianzGI Health Sciences Fund</td>\n",
       "      <td>Virtus AllianzGI Health Sciences Fund Class P</td>\n",
       "      <td>USD</td>\n",
       "      <td>1000000.0</td>\n",
       "      <td>NaN</td>\n",
       "      <td>Health</td>\n",
       "      <td>Virtus</td>\n",
       "      <td>...</td>\n",
       "      <td>1.43</td>\n",
       "      <td>3.27</td>\n",
       "      <td>12.96</td>\n",
       "      <td>9.52</td>\n",
       "      <td>12.87</td>\n",
       "      <td>15.08</td>\n",
       "      <td>8.40</td>\n",
       "      <td>4.96</td>\n",
       "      <td>7.68</td>\n",
       "      <td>10.30</td>\n",
       "    </tr>\n",
       "    <tr>\n",
       "      <th>2</th>\n",
       "      <td>AAAFX</td>\n",
       "      <td>MutualFund</td>\n",
       "      <td>US</td>\n",
       "      <td>NaN</td>\n",
       "      <td>American Century One Choice Blend+ 2015 Portfo...</td>\n",
       "      <td>USD</td>\n",
       "      <td>2500.0</td>\n",
       "      <td>50.0</td>\n",
       "      <td>Target-Date 2015</td>\n",
       "      <td>American Century Investments</td>\n",
       "      <td>...</td>\n",
       "      <td>NaN</td>\n",
       "      <td>NaN</td>\n",
       "      <td>NaN</td>\n",
       "      <td>NaN</td>\n",
       "      <td>NaN</td>\n",
       "      <td>NaN</td>\n",
       "      <td>NaN</td>\n",
       "      <td>NaN</td>\n",
       "      <td>NaN</td>\n",
       "      <td>NaN</td>\n",
       "    </tr>\n",
       "    <tr>\n",
       "      <th>3</th>\n",
       "      <td>AAAGX</td>\n",
       "      <td>MutualFund</td>\n",
       "      <td>US</td>\n",
       "      <td>Thrivent Large Cap Growth Fund</td>\n",
       "      <td>Thrivent Large Cap Growth Fund Class A</td>\n",
       "      <td>USD</td>\n",
       "      <td>2000.0</td>\n",
       "      <td>50.0</td>\n",
       "      <td>Large Growth</td>\n",
       "      <td>Thrivent Funds</td>\n",
       "      <td>...</td>\n",
       "      <td>2.70</td>\n",
       "      <td>5.81</td>\n",
       "      <td>10.13</td>\n",
       "      <td>7.25</td>\n",
       "      <td>10.14</td>\n",
       "      <td>11.97</td>\n",
       "      <td>8.03</td>\n",
       "      <td>5.30</td>\n",
       "      <td>7.54</td>\n",
       "      <td>8.90</td>\n",
       "    </tr>\n",
       "    <tr>\n",
       "      <th>4</th>\n",
       "      <td>AAAHX</td>\n",
       "      <td>MutualFund</td>\n",
       "      <td>US</td>\n",
       "      <td>NaN</td>\n",
       "      <td>American Century One Choice Blend+ 2015 Portfo...</td>\n",
       "      <td>USD</td>\n",
       "      <td>5000000.0</td>\n",
       "      <td>NaN</td>\n",
       "      <td>Target-Date 2015</td>\n",
       "      <td>American Century Investments</td>\n",
       "      <td>...</td>\n",
       "      <td>NaN</td>\n",
       "      <td>NaN</td>\n",
       "      <td>NaN</td>\n",
       "      <td>NaN</td>\n",
       "      <td>NaN</td>\n",
       "      <td>NaN</td>\n",
       "      <td>NaN</td>\n",
       "      <td>NaN</td>\n",
       "      <td>NaN</td>\n",
       "      <td>NaN</td>\n",
       "    </tr>\n",
       "  </tbody>\n",
       "</table>\n",
       "<p>5 rows × 298 columns</p>\n",
       "</div>"
      ],
      "text/plain": [
       "  fund_symbol  quote_type region                  fund_short_name  \\\n",
       "0       AAAAX  MutualFund     US  DWS RREEF Real Assets Fund - Cl   \n",
       "1       AAAEX  MutualFund     US  AllianzGI Health Sciences Fund    \n",
       "2       AAAFX  MutualFund     US                              NaN   \n",
       "3       AAAGX  MutualFund     US  Thrivent Large Cap Growth Fund    \n",
       "4       AAAHX  MutualFund     US                              NaN   \n",
       "\n",
       "                                      fund_long_name currency  \\\n",
       "0               DWS RREEF Real Assets Fund - Class A      USD   \n",
       "1      Virtus AllianzGI Health Sciences Fund Class P      USD   \n",
       "2  American Century One Choice Blend+ 2015 Portfo...      USD   \n",
       "3             Thrivent Large Cap Growth Fund Class A      USD   \n",
       "4  American Century One Choice Blend+ 2015 Portfo...      USD   \n",
       "\n",
       "   initial_investment  subsequent_investment     fund_category  \\\n",
       "0              1000.0                   50.0  World Allocation   \n",
       "1           1000000.0                    NaN            Health   \n",
       "2              2500.0                   50.0  Target-Date 2015   \n",
       "3              2000.0                   50.0      Large Growth   \n",
       "4           5000000.0                    NaN  Target-Date 2015   \n",
       "\n",
       "                    fund_family  ... peer_environment_avg  \\\n",
       "0                           DWS  ...                 5.05   \n",
       "1                        Virtus  ...                 1.43   \n",
       "2  American Century Investments  ...                  NaN   \n",
       "3                Thrivent Funds  ...                 2.70   \n",
       "4  American Century Investments  ...                  NaN   \n",
       "\n",
       "  peer_environment_max social_score peer_social_min peer_social_avg  \\\n",
       "0                10.58         7.43            5.98            9.07   \n",
       "1                 3.27        12.96            9.52           12.87   \n",
       "2                  NaN          NaN             NaN             NaN   \n",
       "3                 5.81        10.13            7.25           10.14   \n",
       "4                  NaN          NaN             NaN             NaN   \n",
       "\n",
       "  peer_social_max  governance_score  peer_governance_min  peer_governance_avg  \\\n",
       "0           11.30              5.43                 4.26                 7.14   \n",
       "1           15.08              8.40                 4.96                 7.68   \n",
       "2             NaN               NaN                  NaN                  NaN   \n",
       "3           11.97              8.03                 5.30                 7.54   \n",
       "4             NaN               NaN                  NaN                  NaN   \n",
       "\n",
       "   peer_governance_max  \n",
       "0                 8.11  \n",
       "1                10.30  \n",
       "2                  NaN  \n",
       "3                 8.90  \n",
       "4                  NaN  \n",
       "\n",
       "[5 rows x 298 columns]"
      ]
     },
     "execution_count": 34,
     "metadata": {},
     "output_type": "execute_result"
    }
   ],
   "source": [
    "df2 = pd.read_csv('MutualFunds.csv')\n",
    "print(df2.shape)\n",
    "# print(df2.columns)\n",
    "df2.head()\n",
    "# ['fund_symbol', 'fund_short_name', 'fund_category', 'total_net_assets', 'size_type', 'investment_type']"
   ]
  },
  {
   "cell_type": "code",
   "execution_count": 35,
   "id": "7078b98d",
   "metadata": {},
   "outputs": [
    {
     "name": "stdout",
     "output_type": "stream",
     "text": [
      "(21296, 6)\n"
     ]
    },
    {
     "data": {
      "application/vnd.microsoft.datawrangler.viewer.v0+json": {
       "columns": [
        {
         "name": "index",
         "rawType": "int64",
         "type": "integer"
        },
        {
         "name": "fund_symbol",
         "rawType": "object",
         "type": "string"
        },
        {
         "name": "fund_short_name",
         "rawType": "object",
         "type": "string"
        },
        {
         "name": "fund_category",
         "rawType": "object",
         "type": "string"
        },
        {
         "name": "total_net_assets",
         "rawType": "float64",
         "type": "float"
        },
        {
         "name": "size_type",
         "rawType": "object",
         "type": "string"
        },
        {
         "name": "investment_type",
         "rawType": "object",
         "type": "string"
        }
       ],
       "ref": "19abadf0-7eb6-449c-bd28-6a09cfecb706",
       "rows": [
        [
         "0",
         "AAAAX",
         "DWS RREEF Real Assets Fund - Cl",
         "World Allocation",
         "2979347456.0",
         "Large",
         "Value"
        ],
        [
         "1",
         "AAAEX",
         "AllianzGI Health Sciences Fund ",
         "Health",
         "195348944.0",
         "Large",
         "Blend"
        ],
        [
         "3",
         "AAAGX",
         "Thrivent Large Cap Growth Fund ",
         "Large Growth",
         "2078606848.0",
         "Large",
         "Growth"
        ],
        [
         "5",
         "AAAIX",
         "American Century Strategic Allo",
         "Allocation--70% to 85% Equity",
         "848319040.0",
         "Large",
         "Blend"
        ],
        [
         "10",
         "AAANX",
         "Horizon Active Asset Allocation",
         "Tactical Allocation",
         "704576576.0",
         "Large",
         "Blend"
        ]
       ],
       "shape": {
        "columns": 6,
        "rows": 5
       }
      },
      "text/html": [
       "<div>\n",
       "<style scoped>\n",
       "    .dataframe tbody tr th:only-of-type {\n",
       "        vertical-align: middle;\n",
       "    }\n",
       "\n",
       "    .dataframe tbody tr th {\n",
       "        vertical-align: top;\n",
       "    }\n",
       "\n",
       "    .dataframe thead th {\n",
       "        text-align: right;\n",
       "    }\n",
       "</style>\n",
       "<table border=\"1\" class=\"dataframe\">\n",
       "  <thead>\n",
       "    <tr style=\"text-align: right;\">\n",
       "      <th></th>\n",
       "      <th>fund_symbol</th>\n",
       "      <th>fund_short_name</th>\n",
       "      <th>fund_category</th>\n",
       "      <th>total_net_assets</th>\n",
       "      <th>size_type</th>\n",
       "      <th>investment_type</th>\n",
       "    </tr>\n",
       "  </thead>\n",
       "  <tbody>\n",
       "    <tr>\n",
       "      <th>0</th>\n",
       "      <td>AAAAX</td>\n",
       "      <td>DWS RREEF Real Assets Fund - Cl</td>\n",
       "      <td>World Allocation</td>\n",
       "      <td>2.979347e+09</td>\n",
       "      <td>Large</td>\n",
       "      <td>Value</td>\n",
       "    </tr>\n",
       "    <tr>\n",
       "      <th>1</th>\n",
       "      <td>AAAEX</td>\n",
       "      <td>AllianzGI Health Sciences Fund</td>\n",
       "      <td>Health</td>\n",
       "      <td>1.953489e+08</td>\n",
       "      <td>Large</td>\n",
       "      <td>Blend</td>\n",
       "    </tr>\n",
       "    <tr>\n",
       "      <th>3</th>\n",
       "      <td>AAAGX</td>\n",
       "      <td>Thrivent Large Cap Growth Fund</td>\n",
       "      <td>Large Growth</td>\n",
       "      <td>2.078607e+09</td>\n",
       "      <td>Large</td>\n",
       "      <td>Growth</td>\n",
       "    </tr>\n",
       "    <tr>\n",
       "      <th>5</th>\n",
       "      <td>AAAIX</td>\n",
       "      <td>American Century Strategic Allo</td>\n",
       "      <td>Allocation--70% to 85% Equity</td>\n",
       "      <td>8.483190e+08</td>\n",
       "      <td>Large</td>\n",
       "      <td>Blend</td>\n",
       "    </tr>\n",
       "    <tr>\n",
       "      <th>10</th>\n",
       "      <td>AAANX</td>\n",
       "      <td>Horizon Active Asset Allocation</td>\n",
       "      <td>Tactical Allocation</td>\n",
       "      <td>7.045766e+08</td>\n",
       "      <td>Large</td>\n",
       "      <td>Blend</td>\n",
       "    </tr>\n",
       "  </tbody>\n",
       "</table>\n",
       "</div>"
      ],
      "text/plain": [
       "   fund_symbol                  fund_short_name  \\\n",
       "0        AAAAX  DWS RREEF Real Assets Fund - Cl   \n",
       "1        AAAEX  AllianzGI Health Sciences Fund    \n",
       "3        AAAGX  Thrivent Large Cap Growth Fund    \n",
       "5        AAAIX  American Century Strategic Allo   \n",
       "10       AAANX  Horizon Active Asset Allocation   \n",
       "\n",
       "                    fund_category  total_net_assets size_type investment_type  \n",
       "0                World Allocation      2.979347e+09     Large           Value  \n",
       "1                          Health      1.953489e+08     Large           Blend  \n",
       "3                    Large Growth      2.078607e+09     Large          Growth  \n",
       "5   Allocation--70% to 85% Equity      8.483190e+08     Large           Blend  \n",
       "10            Tactical Allocation      7.045766e+08     Large           Blend  "
      ]
     },
     "execution_count": 35,
     "metadata": {},
     "output_type": "execute_result"
    }
   ],
   "source": [
    "df3 = df2[['fund_symbol', 'fund_short_name', 'fund_category', 'total_net_assets', 'size_type', 'investment_type']].dropna()\n",
    "print(df3.shape)\n",
    "df3.head()"
   ]
  },
  {
   "cell_type": "code",
   "execution_count": 37,
   "id": "c29679f0",
   "metadata": {},
   "outputs": [
    {
     "data": {
      "text/plain": [
       "array(['Value', 'Blend', 'Growth'], dtype=object)"
      ]
     },
     "execution_count": 37,
     "metadata": {},
     "output_type": "execute_result"
    }
   ],
   "source": [
    "df3['investment_type'].unique()"
   ]
  },
  {
   "cell_type": "code",
   "execution_count": 26,
   "id": "d94f687f",
   "metadata": {},
   "outputs": [],
   "source": [
    "# for col in df3.columns:\n",
    "#     print(f\"Unique values in '{col}':\")\n",
    "#     print(df3[col].unique())\n",
    "#     print('-' * 40)"
   ]
  },
  {
   "cell_type": "code",
   "execution_count": 28,
   "id": "ca028e87",
   "metadata": {},
   "outputs": [],
   "source": [
    "df3.to_csv('funds_data.csv', index=False)"
   ]
  },
  {
   "cell_type": "code",
   "execution_count": null,
   "id": "276ca1c0",
   "metadata": {},
   "outputs": [],
   "source": []
  }
 ],
 "metadata": {
  "kernelspec": {
   "display_name": "data1030",
   "language": "python",
   "name": "python3"
  },
  "language_info": {
   "codemirror_mode": {
    "name": "ipython",
    "version": 3
   },
   "file_extension": ".py",
   "mimetype": "text/x-python",
   "name": "python",
   "nbconvert_exporter": "python",
   "pygments_lexer": "ipython3",
   "version": "3.11.4"
  }
 },
 "nbformat": 4,
 "nbformat_minor": 5
}
