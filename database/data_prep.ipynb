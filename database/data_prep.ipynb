{
 "cells": [
  {
   "cell_type": "code",
   "execution_count": 2,
   "id": "44f5ba52",
   "metadata": {},
   "outputs": [],
   "source": [
    "import pandas as pd\n",
    "import numpy as np"
   ]
  },
  {
   "cell_type": "code",
   "execution_count": 5,
   "id": "ae0d9f52",
   "metadata": {},
   "outputs": [
    {
     "name": "stdout",
     "output_type": "stream",
     "text": [
      "(6368, 14)\n"
     ]
    },
    {
     "data": {
      "application/vnd.microsoft.datawrangler.viewer.v0+json": {
       "columns": [
        {
         "name": "index",
         "rawType": "int64",
         "type": "integer"
        },
        {
         "name": "ticker",
         "rawType": "object",
         "type": "string"
        },
        {
         "name": "company name",
         "rawType": "object",
         "type": "string"
        },
        {
         "name": "short name",
         "rawType": "object",
         "type": "string"
        },
        {
         "name": "industry",
         "rawType": "object",
         "type": "unknown"
        },
        {
         "name": "description",
         "rawType": "object",
         "type": "string"
        },
        {
         "name": "website",
         "rawType": "object",
         "type": "string"
        },
        {
         "name": "logo",
         "rawType": "object",
         "type": "unknown"
        },
        {
         "name": "ceo",
         "rawType": "object",
         "type": "unknown"
        },
        {
         "name": "exchange",
         "rawType": "object",
         "type": "string"
        },
        {
         "name": "market cap",
         "rawType": "float64",
         "type": "float"
        },
        {
         "name": "sector",
         "rawType": "object",
         "type": "unknown"
        },
        {
         "name": "tag 1",
         "rawType": "object",
         "type": "unknown"
        },
        {
         "name": "tag 2",
         "rawType": "object",
         "type": "unknown"
        },
        {
         "name": "tag 3",
         "rawType": "object",
         "type": "unknown"
        }
       ],
       "ref": "0879f5bd-65f4-4339-bdbc-400ac77f92a3",
       "rows": [
        [
         "0",
         "A",
         "Agilent Technologies Inc.",
         "Agilent",
         "Medical Diagnostics & Research",
         "Agilent Technologies Inc is engaged in life sciences, diagnostics and applied chemical markets. The company provides application focused solutions that include instruments, software, services and consumables for the entire laboratory workflow.",
         "http://www.agilent.com",
         "A.png",
         "Michael R. McMullen",
         "New York Stock Exchange",
         "24218068096.0",
         "Healthcare",
         "Healthcare",
         "Diagnostics & Research",
         "Medical Diagnostics & Research"
        ],
        [
         "1",
         "AA",
         "Alcoa Corporation",
         "Alcoa",
         "Metals & Mining",
         "Alcoa Corp is an integrated aluminum company. The company engages in aluminum production from bauxite mining to manufactures finished aluminum goods. It serves finished aluminum goods to a wide-variety of industrial end markets.",
         "http://www.alcoa.com",
         "AA.png",
         "Roy Christopher Harvey",
         "New York Stock Exchange",
         "5374966543.0",
         "Basic Materials",
         "Basic Materials",
         "Aluminum",
         "Metals & Mining"
        ],
        [
         "2",
         "AABA",
         "Altaba Inc.",
         "Altaba",
         "Asset Management",
         "Altaba Inc is an independent, non-diversified, closed-end management investment company. The Fund's objective is to seek to increase the price per share at which it trades relative to then-current values of its principal underlying assets, and others.",
         "http://www.altaba.com",
         "AABA.png",
         "Thomas J. Mcinerney",
         "Nasdaq Global Select",
         "41223683414.0",
         "Financial Services",
         "Financial Services",
         "Asset Management",
         null
        ],
        [
         "3",
         "AAC",
         "AAC Holdings Inc.",
         "AAC",
         "Health Care Providers",
         "AAC Holdings Inc provides inpatient and outpatient substance abuse treatment services for individuals with drug and alcohol addiction. The company also performs drug testing and diagnostics laboratory services and provides physician services.",
         "http://www.americanaddictioncenters.org",
         null,
         "Michael T. Cartwright",
         "New York Stock Exchange",
         "63720099.0",
         "Healthcare",
         "Healthcare",
         "Medical Care",
         "Health Care Providers"
        ],
        [
         "4",
         "AADR",
         "AdvisorShares Dorsey Wright ADR",
         "AdvisorShares Dorsey Wright",
         null,
         "The investment seeks long-term capital appreciation above international benchmarks such as the BNY Mellon Classic ADR Index, the fund's primary benchmark, and the MSCI EAFE Index, the fund's secondary benchmark.\n The fund seeks to achieve the fund's investment objective by selecting primarily a portfolio of U.S.-traded securities of non-U.S. organizations, most often American Depositary Receipts (\"ADRs\"). It will invest at least 80% of its total assets in ADRs and in securities that have economic characteristics similar to ADRs.",
         "http://www.advisorshares.com",
         "AADR.png",
         null,
         "NYSE Arca",
         "103161180.0",
         null,
         null,
         null,
         null
        ]
       ],
       "shape": {
        "columns": 14,
        "rows": 5
       }
      },
      "text/html": [
       "<div>\n",
       "<style scoped>\n",
       "    .dataframe tbody tr th:only-of-type {\n",
       "        vertical-align: middle;\n",
       "    }\n",
       "\n",
       "    .dataframe tbody tr th {\n",
       "        vertical-align: top;\n",
       "    }\n",
       "\n",
       "    .dataframe thead th {\n",
       "        text-align: right;\n",
       "    }\n",
       "</style>\n",
       "<table border=\"1\" class=\"dataframe\">\n",
       "  <thead>\n",
       "    <tr style=\"text-align: right;\">\n",
       "      <th></th>\n",
       "      <th>ticker</th>\n",
       "      <th>company name</th>\n",
       "      <th>short name</th>\n",
       "      <th>industry</th>\n",
       "      <th>description</th>\n",
       "      <th>website</th>\n",
       "      <th>logo</th>\n",
       "      <th>ceo</th>\n",
       "      <th>exchange</th>\n",
       "      <th>market cap</th>\n",
       "      <th>sector</th>\n",
       "      <th>tag 1</th>\n",
       "      <th>tag 2</th>\n",
       "      <th>tag 3</th>\n",
       "    </tr>\n",
       "  </thead>\n",
       "  <tbody>\n",
       "    <tr>\n",
       "      <th>0</th>\n",
       "      <td>A</td>\n",
       "      <td>Agilent Technologies Inc.</td>\n",
       "      <td>Agilent</td>\n",
       "      <td>Medical Diagnostics &amp; Research</td>\n",
       "      <td>Agilent Technologies Inc is engaged in life sc...</td>\n",
       "      <td>http://www.agilent.com</td>\n",
       "      <td>A.png</td>\n",
       "      <td>Michael R. McMullen</td>\n",
       "      <td>New York Stock Exchange</td>\n",
       "      <td>2.421807e+10</td>\n",
       "      <td>Healthcare</td>\n",
       "      <td>Healthcare</td>\n",
       "      <td>Diagnostics &amp; Research</td>\n",
       "      <td>Medical Diagnostics &amp; Research</td>\n",
       "    </tr>\n",
       "    <tr>\n",
       "      <th>1</th>\n",
       "      <td>AA</td>\n",
       "      <td>Alcoa Corporation</td>\n",
       "      <td>Alcoa</td>\n",
       "      <td>Metals &amp; Mining</td>\n",
       "      <td>Alcoa Corp is an integrated aluminum company. ...</td>\n",
       "      <td>http://www.alcoa.com</td>\n",
       "      <td>AA.png</td>\n",
       "      <td>Roy Christopher Harvey</td>\n",
       "      <td>New York Stock Exchange</td>\n",
       "      <td>5.374967e+09</td>\n",
       "      <td>Basic Materials</td>\n",
       "      <td>Basic Materials</td>\n",
       "      <td>Aluminum</td>\n",
       "      <td>Metals &amp; Mining</td>\n",
       "    </tr>\n",
       "    <tr>\n",
       "      <th>2</th>\n",
       "      <td>AABA</td>\n",
       "      <td>Altaba Inc.</td>\n",
       "      <td>Altaba</td>\n",
       "      <td>Asset Management</td>\n",
       "      <td>Altaba Inc is an independent, non-diversified,...</td>\n",
       "      <td>http://www.altaba.com</td>\n",
       "      <td>AABA.png</td>\n",
       "      <td>Thomas J. Mcinerney</td>\n",
       "      <td>Nasdaq Global Select</td>\n",
       "      <td>4.122368e+10</td>\n",
       "      <td>Financial Services</td>\n",
       "      <td>Financial Services</td>\n",
       "      <td>Asset Management</td>\n",
       "      <td>NaN</td>\n",
       "    </tr>\n",
       "    <tr>\n",
       "      <th>3</th>\n",
       "      <td>AAC</td>\n",
       "      <td>AAC Holdings Inc.</td>\n",
       "      <td>AAC</td>\n",
       "      <td>Health Care Providers</td>\n",
       "      <td>AAC Holdings Inc provides inpatient and outpat...</td>\n",
       "      <td>http://www.americanaddictioncenters.org</td>\n",
       "      <td>NaN</td>\n",
       "      <td>Michael T. Cartwright</td>\n",
       "      <td>New York Stock Exchange</td>\n",
       "      <td>6.372010e+07</td>\n",
       "      <td>Healthcare</td>\n",
       "      <td>Healthcare</td>\n",
       "      <td>Medical Care</td>\n",
       "      <td>Health Care Providers</td>\n",
       "    </tr>\n",
       "    <tr>\n",
       "      <th>4</th>\n",
       "      <td>AADR</td>\n",
       "      <td>AdvisorShares Dorsey Wright ADR</td>\n",
       "      <td>AdvisorShares Dorsey Wright</td>\n",
       "      <td>NaN</td>\n",
       "      <td>The investment seeks long-term capital appreci...</td>\n",
       "      <td>http://www.advisorshares.com</td>\n",
       "      <td>AADR.png</td>\n",
       "      <td>NaN</td>\n",
       "      <td>NYSE Arca</td>\n",
       "      <td>1.031612e+08</td>\n",
       "      <td>NaN</td>\n",
       "      <td>NaN</td>\n",
       "      <td>NaN</td>\n",
       "      <td>NaN</td>\n",
       "    </tr>\n",
       "  </tbody>\n",
       "</table>\n",
       "</div>"
      ],
      "text/plain": [
       "  ticker                     company name                   short name  \\\n",
       "0      A        Agilent Technologies Inc.                      Agilent   \n",
       "1     AA                Alcoa Corporation                        Alcoa   \n",
       "2   AABA                      Altaba Inc.                       Altaba   \n",
       "3    AAC                AAC Holdings Inc.                          AAC   \n",
       "4   AADR  AdvisorShares Dorsey Wright ADR  AdvisorShares Dorsey Wright   \n",
       "\n",
       "                         industry  \\\n",
       "0  Medical Diagnostics & Research   \n",
       "1                 Metals & Mining   \n",
       "2                Asset Management   \n",
       "3           Health Care Providers   \n",
       "4                             NaN   \n",
       "\n",
       "                                         description  \\\n",
       "0  Agilent Technologies Inc is engaged in life sc...   \n",
       "1  Alcoa Corp is an integrated aluminum company. ...   \n",
       "2  Altaba Inc is an independent, non-diversified,...   \n",
       "3  AAC Holdings Inc provides inpatient and outpat...   \n",
       "4  The investment seeks long-term capital appreci...   \n",
       "\n",
       "                                   website      logo                     ceo  \\\n",
       "0                   http://www.agilent.com     A.png     Michael R. McMullen   \n",
       "1                     http://www.alcoa.com    AA.png  Roy Christopher Harvey   \n",
       "2                    http://www.altaba.com  AABA.png     Thomas J. Mcinerney   \n",
       "3  http://www.americanaddictioncenters.org       NaN   Michael T. Cartwright   \n",
       "4             http://www.advisorshares.com  AADR.png                     NaN   \n",
       "\n",
       "                  exchange    market cap              sector  \\\n",
       "0  New York Stock Exchange  2.421807e+10          Healthcare   \n",
       "1  New York Stock Exchange  5.374967e+09     Basic Materials   \n",
       "2     Nasdaq Global Select  4.122368e+10  Financial Services   \n",
       "3  New York Stock Exchange  6.372010e+07          Healthcare   \n",
       "4                NYSE Arca  1.031612e+08                 NaN   \n",
       "\n",
       "                tag 1                   tag 2                           tag 3  \n",
       "0          Healthcare  Diagnostics & Research  Medical Diagnostics & Research  \n",
       "1     Basic Materials                Aluminum                 Metals & Mining  \n",
       "2  Financial Services        Asset Management                             NaN  \n",
       "3          Healthcare            Medical Care           Health Care Providers  \n",
       "4                 NaN                     NaN                             NaN  "
      ]
     },
     "execution_count": 5,
     "metadata": {},
     "output_type": "execute_result"
    }
   ],
   "source": [
    "df = pd.read_csv('companies.csv')\n",
    "print(df.shape)\n",
    "df.head()\n"
   ]
  },
  {
   "cell_type": "code",
   "execution_count": 7,
   "id": "00dbd803",
   "metadata": {},
   "outputs": [
    {
     "name": "stdout",
     "output_type": "stream",
     "text": [
      "(2188, 14)\n"
     ]
    }
   ],
   "source": [
    "df1 = df.dropna()\n",
    "print(df1.shape)"
   ]
  },
  {
   "cell_type": "code",
   "execution_count": 8,
   "id": "e6ad31aa",
   "metadata": {},
   "outputs": [],
   "source": [
    "df1.to_csv('stock_data.csv', index=False)"
   ]
  },
  {
   "cell_type": "code",
   "execution_count": null,
   "id": "ca409ba7",
   "metadata": {},
   "outputs": [],
   "source": []
  }
 ],
 "metadata": {
  "kernelspec": {
   "display_name": "ac215",
   "language": "python",
   "name": "python3"
  },
  "language_info": {
   "codemirror_mode": {
    "name": "ipython",
    "version": 3
   },
   "file_extension": ".py",
   "mimetype": "text/x-python",
   "name": "python",
   "nbconvert_exporter": "python",
   "pygments_lexer": "ipython3",
   "version": "3.10.15"
  }
 },
 "nbformat": 4,
 "nbformat_minor": 5
}
